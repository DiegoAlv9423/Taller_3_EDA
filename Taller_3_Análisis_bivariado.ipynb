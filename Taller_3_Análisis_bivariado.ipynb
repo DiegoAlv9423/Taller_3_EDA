{
  "cells": [
    {
      "cell_type": "markdown",
      "metadata": {
        "id": "view-in-github",
        "colab_type": "text"
      },
      "source": [
        "<a href=\"https://colab.research.google.com/github/DiegoAlv9423/Taller_3_EDA/blob/main/Taller_3_An%C3%A1lisis_bivariado.ipynb\" target=\"_parent\"><img src=\"https://colab.research.google.com/assets/colab-badge.svg\" alt=\"Open In Colab\"/></a>"
      ]
    },
    {
      "cell_type": "markdown",
      "id": "6e7d5a4c-21da-4460-9bf3-9cdd6e59911e",
      "metadata": {
        "id": "6e7d5a4c-21da-4460-9bf3-9cdd6e59911e"
      },
      "source": [
        "# Integrantes\n",
        "## Taller 3 - Actividad Grupal . Comparte tu Análisis bivariado\n",
        "\n",
        "DIEGO ALVAREZ CARO\n",
        "\n",
        "CRISTIAN MUÑOZ ASTUDILLO\n",
        "\n",
        "JULIAN MELENDEZ CRUZ\n",
        "\n",
        "LORENA TONGUINO"
      ]
    },
    {
      "cell_type": "code",
      "execution_count": null,
      "id": "3de9ceb5-4f4c-4a7c-830d-faf66195dd25",
      "metadata": {
        "id": "3de9ceb5-4f4c-4a7c-830d-faf66195dd25"
      },
      "outputs": [],
      "source": [
        "# Librerias\n",
        "import pandas as pd\n",
        "import numpy as np\n",
        "import matplotlib\n",
        "import matplotlib.pyplot as plt\n",
        "import seaborn as sns\n",
        "from sklearn.model_selection import train_test_split\n",
        "from sklearn import metrics\n",
        "from sklearn.linear_model import LinearRegression\n",
        "import statsmodels.api as sm\n",
        "import statsmodels.formula.api as smf\n",
        "from sklearn.preprocessing import PolynomialFeatures\n",
        "from sklearn.impute import KNNImputer"
      ]
    },
    {
      "cell_type": "code",
      "execution_count": null,
      "id": "ba67c30a-0d89-4b3b-9814-a6e0fa4deccc",
      "metadata": {
        "id": "ba67c30a-0d89-4b3b-9814-a6e0fa4deccc",
        "outputId": "4ee93c18-581f-46e5-f4fa-83bec8af8230"
      },
      "outputs": [
        {
          "data": {
            "text/html": [
              "<div>\n",
              "<style scoped>\n",
              "    .dataframe tbody tr th:only-of-type {\n",
              "        vertical-align: middle;\n",
              "    }\n",
              "\n",
              "    .dataframe tbody tr th {\n",
              "        vertical-align: top;\n",
              "    }\n",
              "\n",
              "    .dataframe thead th {\n",
              "        text-align: right;\n",
              "    }\n",
              "</style>\n",
              "<table border=\"1\" class=\"dataframe\">\n",
              "  <thead>\n",
              "    <tr style=\"text-align: right;\">\n",
              "      <th></th>\n",
              "      <th>Age</th>\n",
              "      <th>Sex</th>\n",
              "      <th>ChestPainType</th>\n",
              "      <th>RestingBP</th>\n",
              "      <th>Cholesterol</th>\n",
              "      <th>FastingBS</th>\n",
              "      <th>RestingECG</th>\n",
              "      <th>MaxHR</th>\n",
              "      <th>ExerciseAngina</th>\n",
              "      <th>Oldpeak</th>\n",
              "      <th>ST_Slope</th>\n",
              "      <th>HeartDisease</th>\n",
              "    </tr>\n",
              "  </thead>\n",
              "  <tbody>\n",
              "    <tr>\n",
              "      <th>0</th>\n",
              "      <td>40</td>\n",
              "      <td>M</td>\n",
              "      <td>ATA</td>\n",
              "      <td>140</td>\n",
              "      <td>289</td>\n",
              "      <td>0</td>\n",
              "      <td>Normal</td>\n",
              "      <td>172</td>\n",
              "      <td>N</td>\n",
              "      <td>0.0</td>\n",
              "      <td>Up</td>\n",
              "      <td>0</td>\n",
              "    </tr>\n",
              "    <tr>\n",
              "      <th>1</th>\n",
              "      <td>49</td>\n",
              "      <td>F</td>\n",
              "      <td>NAP</td>\n",
              "      <td>160</td>\n",
              "      <td>180</td>\n",
              "      <td>0</td>\n",
              "      <td>Normal</td>\n",
              "      <td>156</td>\n",
              "      <td>N</td>\n",
              "      <td>1.0</td>\n",
              "      <td>Flat</td>\n",
              "      <td>1</td>\n",
              "    </tr>\n",
              "    <tr>\n",
              "      <th>2</th>\n",
              "      <td>37</td>\n",
              "      <td>M</td>\n",
              "      <td>ATA</td>\n",
              "      <td>130</td>\n",
              "      <td>283</td>\n",
              "      <td>0</td>\n",
              "      <td>ST</td>\n",
              "      <td>98</td>\n",
              "      <td>N</td>\n",
              "      <td>0.0</td>\n",
              "      <td>Up</td>\n",
              "      <td>0</td>\n",
              "    </tr>\n",
              "    <tr>\n",
              "      <th>3</th>\n",
              "      <td>48</td>\n",
              "      <td>F</td>\n",
              "      <td>ASY</td>\n",
              "      <td>138</td>\n",
              "      <td>214</td>\n",
              "      <td>0</td>\n",
              "      <td>Normal</td>\n",
              "      <td>108</td>\n",
              "      <td>Y</td>\n",
              "      <td>1.5</td>\n",
              "      <td>Flat</td>\n",
              "      <td>1</td>\n",
              "    </tr>\n",
              "    <tr>\n",
              "      <th>4</th>\n",
              "      <td>54</td>\n",
              "      <td>M</td>\n",
              "      <td>NAP</td>\n",
              "      <td>150</td>\n",
              "      <td>195</td>\n",
              "      <td>0</td>\n",
              "      <td>Normal</td>\n",
              "      <td>122</td>\n",
              "      <td>N</td>\n",
              "      <td>0.0</td>\n",
              "      <td>Up</td>\n",
              "      <td>0</td>\n",
              "    </tr>\n",
              "  </tbody>\n",
              "</table>\n",
              "</div>"
            ],
            "text/plain": [
              "   Age Sex ChestPainType  RestingBP  Cholesterol  FastingBS RestingECG  MaxHR  \\\n",
              "0   40   M           ATA        140          289          0     Normal    172   \n",
              "1   49   F           NAP        160          180          0     Normal    156   \n",
              "2   37   M           ATA        130          283          0         ST     98   \n",
              "3   48   F           ASY        138          214          0     Normal    108   \n",
              "4   54   M           NAP        150          195          0     Normal    122   \n",
              "\n",
              "  ExerciseAngina  Oldpeak ST_Slope  HeartDisease  \n",
              "0              N      0.0       Up             0  \n",
              "1              N      1.0     Flat             1  \n",
              "2              N      0.0       Up             0  \n",
              "3              Y      1.5     Flat             1  \n",
              "4              N      0.0       Up             0  "
            ]
          },
          "execution_count": 2,
          "metadata": {},
          "output_type": "execute_result"
        }
      ],
      "source": [
        "# Cargamos el conjunto de datos\n",
        "df = pd.read_csv('https://raw.githubusercontent.com/DiegoAlv9423/EDA_2025_1_DA/refs/heads/main/heart.csv')\n",
        "df.head()"
      ]
    },
    {
      "cell_type": "code",
      "execution_count": null,
      "id": "b7da88fb-f6d7-4c8e-856a-4f7d70900007",
      "metadata": {
        "id": "b7da88fb-f6d7-4c8e-856a-4f7d70900007",
        "outputId": "9f88c91c-f1ae-4162-b178-06f01994e7f8"
      },
      "outputs": [
        {
          "data": {
            "text/plain": [
              "HeartDisease\n",
              "1    508\n",
              "0    410\n",
              "Name: count, dtype: int64"
            ]
          },
          "execution_count": 3,
          "metadata": {},
          "output_type": "execute_result"
        }
      ],
      "source": [
        "# Conteo de variable etiqueta\n",
        "df.HeartDisease.value_counts()"
      ]
    },
    {
      "cell_type": "code",
      "execution_count": null,
      "id": "0899c868-2937-4107-a42a-72d45e09fd8f",
      "metadata": {
        "id": "0899c868-2937-4107-a42a-72d45e09fd8f",
        "outputId": "cd0fca2c-26dd-4ffd-aa12-1891c17a1984"
      },
      "outputs": [
        {
          "data": {
            "text/plain": [
              "HeartDisease\n",
              "1    0.553377\n",
              "0    0.446623\n",
              "Name: proportion, dtype: float64"
            ]
          },
          "execution_count": 4,
          "metadata": {},
          "output_type": "execute_result"
        }
      ],
      "source": [
        "# Porcentajes de cada valor de la eqtiuqeta: 55.33% sí presentó cardiopatía, 44.66% no presentó\n",
        "df.HeartDisease.value_counts(\"normalize = True\")"
      ]
    },
    {
      "cell_type": "code",
      "execution_count": null,
      "id": "9bbcf96e-ac3d-4279-b81f-5141711fc91d",
      "metadata": {
        "id": "9bbcf96e-ac3d-4279-b81f-5141711fc91d",
        "outputId": "6bdb9117-a81d-47e6-80fe-b19addc13ba0"
      },
      "outputs": [
        {
          "data": {
            "text/plain": [
              "0"
            ]
          },
          "execution_count": 5,
          "metadata": {},
          "output_type": "execute_result"
        }
      ],
      "source": [
        "# Verificamos duplicados\n",
        "df.duplicated().sum()"
      ]
    },
    {
      "cell_type": "code",
      "execution_count": null,
      "id": "4902e064-481d-4f50-bda5-bc6df427a115",
      "metadata": {
        "id": "4902e064-481d-4f50-bda5-bc6df427a115",
        "outputId": "3b539929-a72e-445a-919c-bbd735f717da"
      },
      "outputs": [
        {
          "data": {
            "text/plain": [
              "Age               0\n",
              "Sex               0\n",
              "ChestPainType     0\n",
              "RestingBP         0\n",
              "Cholesterol       0\n",
              "FastingBS         0\n",
              "RestingECG        0\n",
              "MaxHR             0\n",
              "ExerciseAngina    0\n",
              "Oldpeak           0\n",
              "ST_Slope          0\n",
              "HeartDisease      0\n",
              "dtype: int64"
            ]
          },
          "execution_count": 6,
          "metadata": {},
          "output_type": "execute_result"
        }
      ],
      "source": [
        "# Verificamos nulos\n",
        "df.isnull().sum()"
      ]
    },
    {
      "cell_type": "markdown",
      "id": "5f46dd1e-2faa-4305-b9b7-69649fadd3a6",
      "metadata": {
        "id": "5f46dd1e-2faa-4305-b9b7-69649fadd3a6"
      },
      "source": [
        "# Descripción de las variables\n",
        "\n",
        "Age: Edad del paciente [años]\n",
        "\n",
        "Sex: Sexo del paciente [M: Masculino, F: Femenino]\n",
        "\n",
        "ChestPainType: Tipo de dolor torácico [TA: Angina Típica, ATA: Angina Atípica, NAP: Dolor No Anginoso, ASY: Asintomático]\n",
        "\n",
        "RestingBP: Presión arterial en reposo [mm Hg], mm Hg son milímetros de mercurio.\n",
        "\n",
        "Cholesterol: Colesterol sérico [mg/dl], mg/dl son miligramos por decilitro\n",
        "\n",
        "FastingBS: Glucemia en ayunas [1: si el nivel de glucemia en ayunas > 120 mg/dl, 0: de lo contrario]\n",
        "\n",
        "RestingECG: Resultados del electrocardiograma en reposo [Normal: Normal, ST: presencia de anomalías en la onda ST-T (inversiones de la onda T y/o elevación o depresión del ST de > 0.05 mV), LVH: indicativo de probalbe o definitiva hipertrofia del ventrículo izquierdo según los criterios de criterios de Estes ( parámetros y puntuaciones utilizados en el análisis del electrocardiograma (ECG) )\n",
        "\n",
        "MaxHR: Frecuencia cardíaca máxima alcanzada [Valor numérico entre 60 y 202]\n",
        "\n",
        "ExerciseAngina: Angina inducida por el ejercicio [Y: Sí, N: No]\n",
        "\n",
        "Oldpeak: Depresión del segmento ST (oldpeak) [Valor numérico medido en depresión]\n",
        "\n",
        "ST_Slope: Pendiente del segmento ST en el pico del ejercicio [Up: inclinación ascendente, Flat: plana, Down: inclinación descendente]\n",
        "\n",
        "HeartDisease: Etiqueta [1: presencia de enfermedad cardíaca, 0: Normal]"
      ]
    },
    {
      "cell_type": "markdown",
      "id": "46b9b2c2-f985-4bc4-ba1d-8e673073faaf",
      "metadata": {
        "id": "46b9b2c2-f985-4bc4-ba1d-8e673073faaf"
      },
      "source": [
        "# Datos nulos\n",
        "\n",
        "En el dataset no tenemos datos nulos, porque en lugar de datos faltantes se registró cero (0). Esto se identificó observando el dataset, los rangos de valores, gráficos y bibliografía asociada al tema, en el análiss univariado"
      ]
    },
    {
      "cell_type": "code",
      "execution_count": null,
      "id": "626e8065-592d-4444-a393-2bd6db0ed917",
      "metadata": {
        "id": "626e8065-592d-4444-a393-2bd6db0ed917",
        "outputId": "4167b901-9979-41f9-c7b2-e9c3f633bf2c"
      },
      "outputs": [
        {
          "data": {
            "text/html": [
              "<div>\n",
              "<style scoped>\n",
              "    .dataframe tbody tr th:only-of-type {\n",
              "        vertical-align: middle;\n",
              "    }\n",
              "\n",
              "    .dataframe tbody tr th {\n",
              "        vertical-align: top;\n",
              "    }\n",
              "\n",
              "    .dataframe thead th {\n",
              "        text-align: right;\n",
              "    }\n",
              "</style>\n",
              "<table border=\"1\" class=\"dataframe\">\n",
              "  <thead>\n",
              "    <tr style=\"text-align: right;\">\n",
              "      <th></th>\n",
              "      <th>Variable</th>\n",
              "      <th>Cantidad de Ceros</th>\n",
              "    </tr>\n",
              "  </thead>\n",
              "  <tbody>\n",
              "    <tr>\n",
              "      <th>0</th>\n",
              "      <td>Cholesterol</td>\n",
              "      <td>172</td>\n",
              "    </tr>\n",
              "    <tr>\n",
              "      <th>1</th>\n",
              "      <td>RestingBP</td>\n",
              "      <td>1</td>\n",
              "    </tr>\n",
              "    <tr>\n",
              "      <th>2</th>\n",
              "      <td>Oldpeak</td>\n",
              "      <td>368</td>\n",
              "    </tr>\n",
              "  </tbody>\n",
              "</table>\n",
              "</div>"
            ],
            "text/plain": [
              "      Variable  Cantidad de Ceros\n",
              "0  Cholesterol                172\n",
              "1    RestingBP                  1\n",
              "2      Oldpeak                368"
            ]
          },
          "execution_count": 8,
          "metadata": {},
          "output_type": "execute_result"
        }
      ],
      "source": [
        "# Conteo de ceros en las columnas donde el valor no puede ser cero\n",
        "zero_counts = df[['Cholesterol', 'RestingBP', 'Oldpeak']].apply(lambda x: (x == 0).sum())\n",
        "zero_counts_df = pd.DataFrame({'Variable': zero_counts.index, 'Cantidad de Ceros': zero_counts.values})\n",
        "zero_counts_df\n"
      ]
    },
    {
      "cell_type": "markdown",
      "id": "3823a45c-11b7-4a18-a749-80dc88f8ab2c",
      "metadata": {
        "id": "3823a45c-11b7-4a18-a749-80dc88f8ab2c"
      },
      "source": [
        "## Imputación con la media"
      ]
    },
    {
      "cell_type": "code",
      "execution_count": null,
      "id": "3f7fec23-e003-496a-8a6c-37627a93006e",
      "metadata": {
        "id": "3f7fec23-e003-496a-8a6c-37627a93006e",
        "outputId": "46372327-6d83-4263-d9a4-9682746497fc"
      },
      "outputs": [
        {
          "data": {
            "text/html": [
              "<div>\n",
              "<style scoped>\n",
              "    .dataframe tbody tr th:only-of-type {\n",
              "        vertical-align: middle;\n",
              "    }\n",
              "\n",
              "    .dataframe tbody tr th {\n",
              "        vertical-align: top;\n",
              "    }\n",
              "\n",
              "    .dataframe thead th {\n",
              "        text-align: right;\n",
              "    }\n",
              "</style>\n",
              "<table border=\"1\" class=\"dataframe\">\n",
              "  <thead>\n",
              "    <tr style=\"text-align: right;\">\n",
              "      <th></th>\n",
              "      <th>Age</th>\n",
              "      <th>Sex</th>\n",
              "      <th>ChestPainType</th>\n",
              "      <th>RestingBP</th>\n",
              "      <th>Cholesterol</th>\n",
              "      <th>FastingBS</th>\n",
              "      <th>RestingECG</th>\n",
              "      <th>MaxHR</th>\n",
              "      <th>ExerciseAngina</th>\n",
              "      <th>Oldpeak</th>\n",
              "      <th>ST_Slope</th>\n",
              "      <th>HeartDisease</th>\n",
              "    </tr>\n",
              "  </thead>\n",
              "  <tbody>\n",
              "    <tr>\n",
              "      <th>0</th>\n",
              "      <td>40</td>\n",
              "      <td>M</td>\n",
              "      <td>ATA</td>\n",
              "      <td>140</td>\n",
              "      <td>289</td>\n",
              "      <td>0</td>\n",
              "      <td>Normal</td>\n",
              "      <td>172</td>\n",
              "      <td>N</td>\n",
              "      <td>0.6</td>\n",
              "      <td>Up</td>\n",
              "      <td>0</td>\n",
              "    </tr>\n",
              "    <tr>\n",
              "      <th>1</th>\n",
              "      <td>49</td>\n",
              "      <td>F</td>\n",
              "      <td>NAP</td>\n",
              "      <td>160</td>\n",
              "      <td>180</td>\n",
              "      <td>0</td>\n",
              "      <td>Normal</td>\n",
              "      <td>156</td>\n",
              "      <td>N</td>\n",
              "      <td>1.0</td>\n",
              "      <td>Flat</td>\n",
              "      <td>1</td>\n",
              "    </tr>\n",
              "    <tr>\n",
              "      <th>2</th>\n",
              "      <td>37</td>\n",
              "      <td>M</td>\n",
              "      <td>ATA</td>\n",
              "      <td>130</td>\n",
              "      <td>283</td>\n",
              "      <td>0</td>\n",
              "      <td>ST</td>\n",
              "      <td>98</td>\n",
              "      <td>N</td>\n",
              "      <td>0.6</td>\n",
              "      <td>Up</td>\n",
              "      <td>0</td>\n",
              "    </tr>\n",
              "    <tr>\n",
              "      <th>3</th>\n",
              "      <td>48</td>\n",
              "      <td>F</td>\n",
              "      <td>ASY</td>\n",
              "      <td>138</td>\n",
              "      <td>214</td>\n",
              "      <td>0</td>\n",
              "      <td>Normal</td>\n",
              "      <td>108</td>\n",
              "      <td>Y</td>\n",
              "      <td>1.5</td>\n",
              "      <td>Flat</td>\n",
              "      <td>1</td>\n",
              "    </tr>\n",
              "    <tr>\n",
              "      <th>4</th>\n",
              "      <td>54</td>\n",
              "      <td>M</td>\n",
              "      <td>NAP</td>\n",
              "      <td>150</td>\n",
              "      <td>195</td>\n",
              "      <td>0</td>\n",
              "      <td>Normal</td>\n",
              "      <td>122</td>\n",
              "      <td>N</td>\n",
              "      <td>0.6</td>\n",
              "      <td>Up</td>\n",
              "      <td>0</td>\n",
              "    </tr>\n",
              "  </tbody>\n",
              "</table>\n",
              "</div>"
            ],
            "text/plain": [
              "   Age Sex ChestPainType  RestingBP  Cholesterol  FastingBS RestingECG  MaxHR  \\\n",
              "0   40   M           ATA        140          289          0     Normal    172   \n",
              "1   49   F           NAP        160          180          0     Normal    156   \n",
              "2   37   M           ATA        130          283          0         ST     98   \n",
              "3   48   F           ASY        138          214          0     Normal    108   \n",
              "4   54   M           NAP        150          195          0     Normal    122   \n",
              "\n",
              "  ExerciseAngina  Oldpeak ST_Slope  HeartDisease  \n",
              "0              N      0.6       Up             0  \n",
              "1              N      1.0     Flat             1  \n",
              "2              N      0.6       Up             0  \n",
              "3              Y      1.5     Flat             1  \n",
              "4              N      0.6       Up             0  "
            ]
          },
          "execution_count": 9,
          "metadata": {},
          "output_type": "execute_result"
        }
      ],
      "source": [
        "df_imp_media= df.copy()\n",
        "# Reemplazar ceros en 'Cholesterol', 'RestingBP' y 'Oldpeak' con la mediana de cada columna, ya que no es posible que estas variables sean cero\n",
        "for i in ['Cholesterol', 'RestingBP', 'Oldpeak']:\n",
        "    median_value = df_imp_media[i].median()\n",
        "    df_imp_media.loc[df_imp_media[i] == 0, i] = median_value\n",
        "\n",
        "df_imp_media.head()"
      ]
    },
    {
      "cell_type": "markdown",
      "id": "bd7b1805-ebb3-4aec-b1da-1f5876c31e0f",
      "metadata": {
        "id": "bd7b1805-ebb3-4aec-b1da-1f5876c31e0f"
      },
      "source": [
        "Usando la media, por ejemplo, los valores de las filas 0, 2, y 4 de olpeak se reemplazan por 0.6"
      ]
    },
    {
      "cell_type": "code",
      "execution_count": null,
      "id": "2c873bd3-8911-4fce-ad3b-26722c0c111d",
      "metadata": {
        "id": "2c873bd3-8911-4fce-ad3b-26722c0c111d",
        "outputId": "c7047c21-c89c-45c3-85f3-06eceab7e284"
      },
      "outputs": [
        {
          "data": {
            "text/html": [
              "<div>\n",
              "<style scoped>\n",
              "    .dataframe tbody tr th:only-of-type {\n",
              "        vertical-align: middle;\n",
              "    }\n",
              "\n",
              "    .dataframe tbody tr th {\n",
              "        vertical-align: top;\n",
              "    }\n",
              "\n",
              "    .dataframe thead th {\n",
              "        text-align: right;\n",
              "    }\n",
              "</style>\n",
              "<table border=\"1\" class=\"dataframe\">\n",
              "  <thead>\n",
              "    <tr style=\"text-align: right;\">\n",
              "      <th></th>\n",
              "      <th>Variable</th>\n",
              "      <th>Cantidad de Ceros(media)</th>\n",
              "    </tr>\n",
              "  </thead>\n",
              "  <tbody>\n",
              "    <tr>\n",
              "      <th>0</th>\n",
              "      <td>Cholesterol</td>\n",
              "      <td>0</td>\n",
              "    </tr>\n",
              "    <tr>\n",
              "      <th>1</th>\n",
              "      <td>RestingBP</td>\n",
              "      <td>0</td>\n",
              "    </tr>\n",
              "    <tr>\n",
              "      <th>2</th>\n",
              "      <td>Oldpeak</td>\n",
              "      <td>0</td>\n",
              "    </tr>\n",
              "  </tbody>\n",
              "</table>\n",
              "</div>"
            ],
            "text/plain": [
              "      Variable  Cantidad de Ceros(media)\n",
              "0  Cholesterol                         0\n",
              "1    RestingBP                         0\n",
              "2      Oldpeak                         0"
            ]
          },
          "execution_count": 10,
          "metadata": {},
          "output_type": "execute_result"
        }
      ],
      "source": [
        "# Comprobrando que df_imp_media no tenga ceros en las columnas 'Cholesterol', 'RestingBP', 'Oldpeak'\n",
        "zero_counts_media = df_imp_media[['Cholesterol', 'RestingBP', 'Oldpeak']].apply(lambda x: (x == 0).sum())\n",
        "zero_counts_df_media = pd.DataFrame({'Variable': zero_counts_media.index, 'Cantidad de Ceros(media)':zero_counts_media.values})\n",
        "zero_counts_df_media"
      ]
    },
    {
      "cell_type": "markdown",
      "id": "5cc0c890-b44f-48bd-b18d-0d3e7a50fdc4",
      "metadata": {
        "id": "5cc0c890-b44f-48bd-b18d-0d3e7a50fdc4"
      },
      "source": [
        "# Imputación con KNNImputer"
      ]
    },
    {
      "cell_type": "code",
      "execution_count": null,
      "id": "ab9ff20f-1be9-4e0a-b658-88f75d24ca96",
      "metadata": {
        "id": "ab9ff20f-1be9-4e0a-b658-88f75d24ca96",
        "outputId": "0134a430-3b26-40bc-9dcd-7720fbfe6e6c"
      },
      "outputs": [
        {
          "data": {
            "text/plain": [
              "(918, 12)"
            ]
          },
          "execution_count": 11,
          "metadata": {},
          "output_type": "execute_result"
        }
      ],
      "source": [
        "df_imp_knn= df.copy()\n",
        "#df_imp_knn.head()\n",
        "df_imp_knn.shape"
      ]
    },
    {
      "cell_type": "code",
      "execution_count": null,
      "id": "8e50fe13-0215-40b5-b17a-c70ba7ff89ab",
      "metadata": {
        "id": "8e50fe13-0215-40b5-b17a-c70ba7ff89ab",
        "outputId": "4824b708-a591-4b2f-9fa9-90eedf2a556d"
      },
      "outputs": [
        {
          "data": {
            "text/html": [
              "<div>\n",
              "<style scoped>\n",
              "    .dataframe tbody tr th:only-of-type {\n",
              "        vertical-align: middle;\n",
              "    }\n",
              "\n",
              "    .dataframe tbody tr th {\n",
              "        vertical-align: top;\n",
              "    }\n",
              "\n",
              "    .dataframe thead th {\n",
              "        text-align: right;\n",
              "    }\n",
              "</style>\n",
              "<table border=\"1\" class=\"dataframe\">\n",
              "  <thead>\n",
              "    <tr style=\"text-align: right;\">\n",
              "      <th></th>\n",
              "      <th>Age</th>\n",
              "      <th>Sex</th>\n",
              "      <th>ChestPainType</th>\n",
              "      <th>RestingBP</th>\n",
              "      <th>Cholesterol</th>\n",
              "      <th>FastingBS</th>\n",
              "      <th>RestingECG</th>\n",
              "      <th>MaxHR</th>\n",
              "      <th>ExerciseAngina</th>\n",
              "      <th>Oldpeak</th>\n",
              "      <th>ST_Slope</th>\n",
              "      <th>HeartDisease</th>\n",
              "    </tr>\n",
              "  </thead>\n",
              "  <tbody>\n",
              "    <tr>\n",
              "      <th>0</th>\n",
              "      <td>40</td>\n",
              "      <td>M</td>\n",
              "      <td>ATA</td>\n",
              "      <td>140.0</td>\n",
              "      <td>289.0</td>\n",
              "      <td>0</td>\n",
              "      <td>Normal</td>\n",
              "      <td>172</td>\n",
              "      <td>N</td>\n",
              "      <td>NaN</td>\n",
              "      <td>Up</td>\n",
              "      <td>0</td>\n",
              "    </tr>\n",
              "    <tr>\n",
              "      <th>1</th>\n",
              "      <td>49</td>\n",
              "      <td>F</td>\n",
              "      <td>NAP</td>\n",
              "      <td>160.0</td>\n",
              "      <td>180.0</td>\n",
              "      <td>0</td>\n",
              "      <td>Normal</td>\n",
              "      <td>156</td>\n",
              "      <td>N</td>\n",
              "      <td>1.0</td>\n",
              "      <td>Flat</td>\n",
              "      <td>1</td>\n",
              "    </tr>\n",
              "    <tr>\n",
              "      <th>2</th>\n",
              "      <td>37</td>\n",
              "      <td>M</td>\n",
              "      <td>ATA</td>\n",
              "      <td>130.0</td>\n",
              "      <td>283.0</td>\n",
              "      <td>0</td>\n",
              "      <td>ST</td>\n",
              "      <td>98</td>\n",
              "      <td>N</td>\n",
              "      <td>NaN</td>\n",
              "      <td>Up</td>\n",
              "      <td>0</td>\n",
              "    </tr>\n",
              "    <tr>\n",
              "      <th>3</th>\n",
              "      <td>48</td>\n",
              "      <td>F</td>\n",
              "      <td>ASY</td>\n",
              "      <td>138.0</td>\n",
              "      <td>214.0</td>\n",
              "      <td>0</td>\n",
              "      <td>Normal</td>\n",
              "      <td>108</td>\n",
              "      <td>Y</td>\n",
              "      <td>1.5</td>\n",
              "      <td>Flat</td>\n",
              "      <td>1</td>\n",
              "    </tr>\n",
              "    <tr>\n",
              "      <th>4</th>\n",
              "      <td>54</td>\n",
              "      <td>M</td>\n",
              "      <td>NAP</td>\n",
              "      <td>150.0</td>\n",
              "      <td>195.0</td>\n",
              "      <td>0</td>\n",
              "      <td>Normal</td>\n",
              "      <td>122</td>\n",
              "      <td>N</td>\n",
              "      <td>NaN</td>\n",
              "      <td>Up</td>\n",
              "      <td>0</td>\n",
              "    </tr>\n",
              "  </tbody>\n",
              "</table>\n",
              "</div>"
            ],
            "text/plain": [
              "   Age Sex ChestPainType  RestingBP  Cholesterol  FastingBS RestingECG  MaxHR  \\\n",
              "0   40   M           ATA      140.0        289.0          0     Normal    172   \n",
              "1   49   F           NAP      160.0        180.0          0     Normal    156   \n",
              "2   37   M           ATA      130.0        283.0          0         ST     98   \n",
              "3   48   F           ASY      138.0        214.0          0     Normal    108   \n",
              "4   54   M           NAP      150.0        195.0          0     Normal    122   \n",
              "\n",
              "  ExerciseAngina  Oldpeak ST_Slope  HeartDisease  \n",
              "0              N      NaN       Up             0  \n",
              "1              N      1.0     Flat             1  \n",
              "2              N      NaN       Up             0  \n",
              "3              Y      1.5     Flat             1  \n",
              "4              N      NaN       Up             0  "
            ]
          },
          "execution_count": 12,
          "metadata": {},
          "output_type": "execute_result"
        }
      ],
      "source": [
        "# prompt: Reemplazar ceros por Nan, en las columnas 'Cholesterol', 'RestingBP' y 'Oldpeak' de df_imp_knn\n",
        "\n",
        "import numpy as np\n",
        "# Reemplazar ceros por NaN en las columnas especificadas\n",
        "for col in ['Cholesterol', 'RestingBP', 'Oldpeak']:\n",
        "    df_imp_knn[col] = df_imp_knn[col].replace(0, np.nan)\n",
        "\n",
        "df_imp_knn.head()"
      ]
    },
    {
      "cell_type": "code",
      "execution_count": null,
      "id": "f29b11a8-8192-4987-b1af-1d73843612e1",
      "metadata": {
        "id": "f29b11a8-8192-4987-b1af-1d73843612e1",
        "outputId": "6a34f6e5-f4c7-4351-8101-5c48803db49f"
      },
      "outputs": [
        {
          "data": {
            "text/html": [
              "<div>\n",
              "<style scoped>\n",
              "    .dataframe tbody tr th:only-of-type {\n",
              "        vertical-align: middle;\n",
              "    }\n",
              "\n",
              "    .dataframe tbody tr th {\n",
              "        vertical-align: top;\n",
              "    }\n",
              "\n",
              "    .dataframe thead th {\n",
              "        text-align: right;\n",
              "    }\n",
              "</style>\n",
              "<table border=\"1\" class=\"dataframe\">\n",
              "  <thead>\n",
              "    <tr style=\"text-align: right;\">\n",
              "      <th></th>\n",
              "      <th>Age</th>\n",
              "      <th>Sex</th>\n",
              "      <th>ChestPainType</th>\n",
              "      <th>RestingBP</th>\n",
              "      <th>Cholesterol</th>\n",
              "      <th>FastingBS</th>\n",
              "      <th>RestingECG</th>\n",
              "      <th>MaxHR</th>\n",
              "      <th>ExerciseAngina</th>\n",
              "      <th>Oldpeak</th>\n",
              "      <th>ST_Slope</th>\n",
              "      <th>HeartDisease</th>\n",
              "    </tr>\n",
              "  </thead>\n",
              "  <tbody>\n",
              "    <tr>\n",
              "      <th>0</th>\n",
              "      <td>40</td>\n",
              "      <td>M</td>\n",
              "      <td>ATA</td>\n",
              "      <td>140.0</td>\n",
              "      <td>289.0</td>\n",
              "      <td>0</td>\n",
              "      <td>Normal</td>\n",
              "      <td>172</td>\n",
              "      <td>N</td>\n",
              "      <td>1.60</td>\n",
              "      <td>Up</td>\n",
              "      <td>0</td>\n",
              "    </tr>\n",
              "    <tr>\n",
              "      <th>1</th>\n",
              "      <td>49</td>\n",
              "      <td>F</td>\n",
              "      <td>NAP</td>\n",
              "      <td>160.0</td>\n",
              "      <td>180.0</td>\n",
              "      <td>0</td>\n",
              "      <td>Normal</td>\n",
              "      <td>156</td>\n",
              "      <td>N</td>\n",
              "      <td>1.00</td>\n",
              "      <td>Flat</td>\n",
              "      <td>1</td>\n",
              "    </tr>\n",
              "    <tr>\n",
              "      <th>2</th>\n",
              "      <td>37</td>\n",
              "      <td>M</td>\n",
              "      <td>ATA</td>\n",
              "      <td>130.0</td>\n",
              "      <td>283.0</td>\n",
              "      <td>0</td>\n",
              "      <td>ST</td>\n",
              "      <td>98</td>\n",
              "      <td>N</td>\n",
              "      <td>1.60</td>\n",
              "      <td>Up</td>\n",
              "      <td>0</td>\n",
              "    </tr>\n",
              "    <tr>\n",
              "      <th>3</th>\n",
              "      <td>48</td>\n",
              "      <td>F</td>\n",
              "      <td>ASY</td>\n",
              "      <td>138.0</td>\n",
              "      <td>214.0</td>\n",
              "      <td>0</td>\n",
              "      <td>Normal</td>\n",
              "      <td>108</td>\n",
              "      <td>Y</td>\n",
              "      <td>1.50</td>\n",
              "      <td>Flat</td>\n",
              "      <td>1</td>\n",
              "    </tr>\n",
              "    <tr>\n",
              "      <th>4</th>\n",
              "      <td>54</td>\n",
              "      <td>M</td>\n",
              "      <td>NAP</td>\n",
              "      <td>150.0</td>\n",
              "      <td>195.0</td>\n",
              "      <td>0</td>\n",
              "      <td>Normal</td>\n",
              "      <td>122</td>\n",
              "      <td>N</td>\n",
              "      <td>2.34</td>\n",
              "      <td>Up</td>\n",
              "      <td>0</td>\n",
              "    </tr>\n",
              "  </tbody>\n",
              "</table>\n",
              "</div>"
            ],
            "text/plain": [
              "   Age Sex ChestPainType  RestingBP  Cholesterol  FastingBS RestingECG  MaxHR  \\\n",
              "0   40   M           ATA      140.0        289.0          0     Normal    172   \n",
              "1   49   F           NAP      160.0        180.0          0     Normal    156   \n",
              "2   37   M           ATA      130.0        283.0          0         ST     98   \n",
              "3   48   F           ASY      138.0        214.0          0     Normal    108   \n",
              "4   54   M           NAP      150.0        195.0          0     Normal    122   \n",
              "\n",
              "  ExerciseAngina  Oldpeak ST_Slope  HeartDisease  \n",
              "0              N     1.60       Up             0  \n",
              "1              N     1.00     Flat             1  \n",
              "2              N     1.60       Up             0  \n",
              "3              Y     1.50     Flat             1  \n",
              "4              N     2.34       Up             0  "
            ]
          },
          "execution_count": 13,
          "metadata": {},
          "output_type": "execute_result"
        }
      ],
      "source": [
        "# prompt: Reemplazar Nan en 'Cholesterol', 'RestingBP' y 'Oldpeak' de df_imp_knn, usando knnImputer\n",
        "\n",
        "from sklearn.impute import KNNImputer\n",
        "\n",
        "# Inicializar el imputador KNN\n",
        "imputer = KNNImputer(n_neighbors=5)  # Puedes ajustar el número de vecinos\n",
        "\n",
        "# Seleccionar las columnas para la imputación\n",
        "cols_to_impute = ['Cholesterol', 'RestingBP', 'Oldpeak']\n",
        "\n",
        "# Aplicar la imputación a las columnas seleccionadas\n",
        "df_imp_knn[cols_to_impute] = imputer.fit_transform(df_imp_knn[cols_to_impute])\n",
        "\n",
        "df_imp_knn.head()\n"
      ]
    },
    {
      "cell_type": "markdown",
      "id": "2a571d30-9101-4748-a38c-6f644bf5afbd",
      "metadata": {
        "id": "2a571d30-9101-4748-a38c-6f644bf5afbd"
      },
      "source": [
        "Usando la KNN, por ejemplo, los valores de las filas 0, 2, y 4 de olpeak se reemplazan por 1.6,1.6, y 2.34, respectivamente. Asigna valores mayores que la media (0.6)"
      ]
    },
    {
      "cell_type": "code",
      "execution_count": null,
      "id": "41650533-45f9-4522-9264-23f070088164",
      "metadata": {
        "id": "41650533-45f9-4522-9264-23f070088164",
        "outputId": "54bb2b69-6ddf-4c5f-ac5d-dd9adc711cac"
      },
      "outputs": [
        {
          "data": {
            "text/html": [
              "<div>\n",
              "<style scoped>\n",
              "    .dataframe tbody tr th:only-of-type {\n",
              "        vertical-align: middle;\n",
              "    }\n",
              "\n",
              "    .dataframe tbody tr th {\n",
              "        vertical-align: top;\n",
              "    }\n",
              "\n",
              "    .dataframe thead th {\n",
              "        text-align: right;\n",
              "    }\n",
              "</style>\n",
              "<table border=\"1\" class=\"dataframe\">\n",
              "  <thead>\n",
              "    <tr style=\"text-align: right;\">\n",
              "      <th></th>\n",
              "      <th>Variable</th>\n",
              "      <th>Cantidad de Ceros(knn)</th>\n",
              "    </tr>\n",
              "  </thead>\n",
              "  <tbody>\n",
              "    <tr>\n",
              "      <th>0</th>\n",
              "      <td>Cholesterol</td>\n",
              "      <td>0</td>\n",
              "    </tr>\n",
              "    <tr>\n",
              "      <th>1</th>\n",
              "      <td>RestingBP</td>\n",
              "      <td>0</td>\n",
              "    </tr>\n",
              "    <tr>\n",
              "      <th>2</th>\n",
              "      <td>Oldpeak</td>\n",
              "      <td>0</td>\n",
              "    </tr>\n",
              "  </tbody>\n",
              "</table>\n",
              "</div>"
            ],
            "text/plain": [
              "      Variable  Cantidad de Ceros(knn)\n",
              "0  Cholesterol                       0\n",
              "1    RestingBP                       0\n",
              "2      Oldpeak                       0"
            ]
          },
          "execution_count": 14,
          "metadata": {},
          "output_type": "execute_result"
        }
      ],
      "source": [
        "# Comprobrando que df_imp_knn no tenga ceros en las columnas 'Cholesterol', 'RestingBP', 'Oldpeak'\n",
        "zero_counts_knn = df_imp_knn[['Cholesterol', 'RestingBP', 'Oldpeak']].apply(lambda x: (x == 0).sum())\n",
        "zero_counts_df_knn = pd.DataFrame({'Variable': zero_counts_knn.index, 'Cantidad de Ceros(knn)':zero_counts_knn.values})\n",
        "zero_counts_df_knn"
      ]
    },
    {
      "cell_type": "markdown",
      "id": "8eec5c55-b9b0-40f2-903f-b934e27b572f",
      "metadata": {
        "id": "8eec5c55-b9b0-40f2-903f-b934e27b572f"
      },
      "source": [
        "# Eliminando las filas en lugar de imputar\n",
        "Se eliminan las filas con ceros, en las columnas: 'Cholesterol', 'RestingBP', 'Oldpeak'"
      ]
    },
    {
      "cell_type": "code",
      "execution_count": null,
      "id": "190857df-fd4b-4de2-9f25-3ba6a4cee09c",
      "metadata": {
        "id": "190857df-fd4b-4de2-9f25-3ba6a4cee09c"
      },
      "outputs": [],
      "source": [
        "# prompt: crear una copia de df llamada df_drop, con las columnas de df, eliminando las filas donde  'Cholesterol', 'RestingBP', 'Oldpeak' tengan ceros\n",
        "\n",
        "# Create a copy of the DataFrame\n",
        "df_drop = df.copy()\n",
        "\n",
        "# Drop rows where 'Cholesterol', 'RestingBP', or 'Oldpeak' are zero\n",
        "df_drop = df_drop[(df_drop['Cholesterol'] != 0) &\n",
        "                  (df_drop['RestingBP'] != 0) &\n",
        "                  (df_drop['Oldpeak'] != 0)]"
      ]
    },
    {
      "cell_type": "markdown",
      "id": "31081b9b-bf75-4288-a43f-fcae0b5e15c5",
      "metadata": {
        "id": "31081b9b-bf75-4288-a43f-fcae0b5e15c5"
      },
      "source": [
        "La que era la fila 1, en df (dataset original), ahora es la fila 0, ya que Oldpeak en la primera fila, tenía valor cero (0), por lo tanto se eliminó"
      ]
    },
    {
      "cell_type": "code",
      "execution_count": null,
      "id": "21f8828e-5d99-4fd4-a5d9-0744b7a7d346",
      "metadata": {
        "id": "21f8828e-5d99-4fd4-a5d9-0744b7a7d346",
        "outputId": "e7c24c4f-ba12-42a5-e57e-0d2a6874cd5c"
      },
      "outputs": [
        {
          "data": {
            "text/plain": [
              "(429, 12)"
            ]
          },
          "execution_count": 16,
          "metadata": {},
          "output_type": "execute_result"
        }
      ],
      "source": [
        "# Nuevo tamaño de df_drop, luego de eliminar filas con ceros\n",
        "df_drop.shape"
      ]
    },
    {
      "cell_type": "code",
      "execution_count": null,
      "id": "2b4baae2-fec8-4980-9a49-9ff78b88fb1d",
      "metadata": {
        "id": "2b4baae2-fec8-4980-9a49-9ff78b88fb1d",
        "outputId": "0ac2e318-0aac-43e2-de94-a20a01d7899a"
      },
      "outputs": [
        {
          "data": {
            "text/plain": [
              "(918, 12)"
            ]
          },
          "execution_count": 17,
          "metadata": {},
          "output_type": "execute_result"
        }
      ],
      "source": [
        "# Tamaño df original\n",
        "df.shape"
      ]
    },
    {
      "cell_type": "code",
      "execution_count": null,
      "id": "82758da6-658e-4756-a002-19f45b6b7980",
      "metadata": {
        "id": "82758da6-658e-4756-a002-19f45b6b7980",
        "outputId": "1ca0dcd1-576a-4f30-bb5a-f24d90e0bcb1"
      },
      "outputs": [
        {
          "data": {
            "text/plain": [
              "0.4673202614379085"
            ]
          },
          "execution_count": 18,
          "metadata": {},
          "output_type": "execute_result"
        }
      ],
      "source": [
        "# Se eliminó el 46.73% de las filas\n",
        "por_drop= 429/918\n",
        "por_drop"
      ]
    },
    {
      "cell_type": "markdown",
      "id": "40d285de-aee8-45f8-93b3-edc59cbdf065",
      "metadata": {
        "id": "40d285de-aee8-45f8-93b3-edc59cbdf065"
      },
      "source": [
        "# Predicciones con los métodos de imputación: media, KNN, y eliminación de nulos\n",
        "Se compara los métodos de imputación media, knn,y elmétodo de eliminación. Para ello se las variables categóricas deben convertirse a un formato numérico. Se usa One-Hot Encoding para convertir cada categoría en una columna binaria (0 o 1).\n",
        "\n",
        "Las columnas de variables categóricas son: ['Sex', 'ChestPainType', 'RestingECG', 'ExerciseAngina', 'ST_Slope']\n",
        "\n",
        "# Calculando Score con el método de eliminación (df_drop)"
      ]
    },
    {
      "cell_type": "code",
      "execution_count": null,
      "id": "bfd640ad-59d2-41d2-99b4-3920bacc13f1",
      "metadata": {
        "id": "bfd640ad-59d2-41d2-99b4-3920bacc13f1",
        "outputId": "58ed9cbe-92ba-4d05-f7b4-880bc9bc13d6"
      },
      "outputs": [
        {
          "data": {
            "text/html": [
              "<div>\n",
              "<style scoped>\n",
              "    .dataframe tbody tr th:only-of-type {\n",
              "        vertical-align: middle;\n",
              "    }\n",
              "\n",
              "    .dataframe tbody tr th {\n",
              "        vertical-align: top;\n",
              "    }\n",
              "\n",
              "    .dataframe thead th {\n",
              "        text-align: right;\n",
              "    }\n",
              "</style>\n",
              "<table border=\"1\" class=\"dataframe\">\n",
              "  <thead>\n",
              "    <tr style=\"text-align: right;\">\n",
              "      <th></th>\n",
              "      <th>Age</th>\n",
              "      <th>RestingBP</th>\n",
              "      <th>Cholesterol</th>\n",
              "      <th>FastingBS</th>\n",
              "      <th>MaxHR</th>\n",
              "      <th>Oldpeak</th>\n",
              "      <th>HeartDisease</th>\n",
              "      <th>Sex_M</th>\n",
              "      <th>ChestPainType_ATA</th>\n",
              "      <th>ChestPainType_NAP</th>\n",
              "      <th>ChestPainType_TA</th>\n",
              "      <th>RestingECG_Normal</th>\n",
              "      <th>RestingECG_ST</th>\n",
              "      <th>ExerciseAngina_Y</th>\n",
              "      <th>ST_Slope_Flat</th>\n",
              "      <th>ST_Slope_Up</th>\n",
              "    </tr>\n",
              "  </thead>\n",
              "  <tbody>\n",
              "    <tr>\n",
              "      <th>1</th>\n",
              "      <td>49</td>\n",
              "      <td>160</td>\n",
              "      <td>180</td>\n",
              "      <td>0</td>\n",
              "      <td>156</td>\n",
              "      <td>1.0</td>\n",
              "      <td>1</td>\n",
              "      <td>False</td>\n",
              "      <td>False</td>\n",
              "      <td>True</td>\n",
              "      <td>False</td>\n",
              "      <td>True</td>\n",
              "      <td>False</td>\n",
              "      <td>False</td>\n",
              "      <td>True</td>\n",
              "      <td>False</td>\n",
              "    </tr>\n",
              "    <tr>\n",
              "      <th>3</th>\n",
              "      <td>48</td>\n",
              "      <td>138</td>\n",
              "      <td>214</td>\n",
              "      <td>0</td>\n",
              "      <td>108</td>\n",
              "      <td>1.5</td>\n",
              "      <td>1</td>\n",
              "      <td>False</td>\n",
              "      <td>False</td>\n",
              "      <td>False</td>\n",
              "      <td>False</td>\n",
              "      <td>True</td>\n",
              "      <td>False</td>\n",
              "      <td>True</td>\n",
              "      <td>True</td>\n",
              "      <td>False</td>\n",
              "    </tr>\n",
              "    <tr>\n",
              "      <th>8</th>\n",
              "      <td>37</td>\n",
              "      <td>140</td>\n",
              "      <td>207</td>\n",
              "      <td>0</td>\n",
              "      <td>130</td>\n",
              "      <td>1.5</td>\n",
              "      <td>1</td>\n",
              "      <td>True</td>\n",
              "      <td>False</td>\n",
              "      <td>False</td>\n",
              "      <td>False</td>\n",
              "      <td>True</td>\n",
              "      <td>False</td>\n",
              "      <td>True</td>\n",
              "      <td>True</td>\n",
              "      <td>False</td>\n",
              "    </tr>\n",
              "    <tr>\n",
              "      <th>11</th>\n",
              "      <td>58</td>\n",
              "      <td>136</td>\n",
              "      <td>164</td>\n",
              "      <td>0</td>\n",
              "      <td>99</td>\n",
              "      <td>2.0</td>\n",
              "      <td>1</td>\n",
              "      <td>True</td>\n",
              "      <td>True</td>\n",
              "      <td>False</td>\n",
              "      <td>False</td>\n",
              "      <td>False</td>\n",
              "      <td>True</td>\n",
              "      <td>True</td>\n",
              "      <td>True</td>\n",
              "      <td>False</td>\n",
              "    </tr>\n",
              "    <tr>\n",
              "      <th>13</th>\n",
              "      <td>49</td>\n",
              "      <td>140</td>\n",
              "      <td>234</td>\n",
              "      <td>0</td>\n",
              "      <td>140</td>\n",
              "      <td>1.0</td>\n",
              "      <td>1</td>\n",
              "      <td>True</td>\n",
              "      <td>False</td>\n",
              "      <td>False</td>\n",
              "      <td>False</td>\n",
              "      <td>True</td>\n",
              "      <td>False</td>\n",
              "      <td>True</td>\n",
              "      <td>True</td>\n",
              "      <td>False</td>\n",
              "    </tr>\n",
              "  </tbody>\n",
              "</table>\n",
              "</div>"
            ],
            "text/plain": [
              "    Age  RestingBP  Cholesterol  FastingBS  MaxHR  Oldpeak  HeartDisease  \\\n",
              "1    49        160          180          0    156      1.0             1   \n",
              "3    48        138          214          0    108      1.5             1   \n",
              "8    37        140          207          0    130      1.5             1   \n",
              "11   58        136          164          0     99      2.0             1   \n",
              "13   49        140          234          0    140      1.0             1   \n",
              "\n",
              "    Sex_M  ChestPainType_ATA  ChestPainType_NAP  ChestPainType_TA  \\\n",
              "1   False              False               True             False   \n",
              "3   False              False              False             False   \n",
              "8    True              False              False             False   \n",
              "11   True               True              False             False   \n",
              "13   True              False              False             False   \n",
              "\n",
              "    RestingECG_Normal  RestingECG_ST  ExerciseAngina_Y  ST_Slope_Flat  \\\n",
              "1                True          False             False           True   \n",
              "3                True          False              True           True   \n",
              "8                True          False              True           True   \n",
              "11              False           True              True           True   \n",
              "13               True          False              True           True   \n",
              "\n",
              "    ST_Slope_Up  \n",
              "1         False  \n",
              "3         False  \n",
              "8         False  \n",
              "11        False  \n",
              "13        False  "
            ]
          },
          "execution_count": 20,
          "metadata": {},
          "output_type": "execute_result"
        }
      ],
      "source": [
        "# Perform One-Hot Encoding on categorical columns of df_drop\n",
        "df_encoded_drop = pd.get_dummies(df_drop,\n",
        "                            columns=['Sex', 'ChestPainType', 'RestingECG', 'ExerciseAngina', 'ST_Slope'],\n",
        "                            drop_first=True) # Drop first to avoid multicollinearity\n",
        "\n",
        "df_encoded_drop.head()"
      ]
    },
    {
      "cell_type": "code",
      "execution_count": null,
      "id": "72bd6442-f08b-46ca-9003-e5b04c824fab",
      "metadata": {
        "id": "72bd6442-f08b-46ca-9003-e5b04c824fab",
        "outputId": "d2098945-92f7-4c78-f94e-c7921a58970a"
      },
      "outputs": [
        {
          "data": {
            "text/plain": [
              "Index(['Age', 'RestingBP', 'Cholesterol', 'FastingBS', 'MaxHR', 'Oldpeak',\n",
              "       'HeartDisease', 'Sex_M', 'ChestPainType_ATA', 'ChestPainType_NAP',\n",
              "       'ChestPainType_TA', 'RestingECG_Normal', 'RestingECG_ST',\n",
              "       'ExerciseAngina_Y', 'ST_Slope_Flat', 'ST_Slope_Up'],\n",
              "      dtype='object')"
            ]
          },
          "execution_count": 21,
          "metadata": {},
          "output_type": "execute_result"
        }
      ],
      "source": [
        "# Las nuevas columnas de df_drop, con las variables categoricas codificadas\n",
        "df_encoded_drop.keys()"
      ]
    },
    {
      "cell_type": "code",
      "execution_count": null,
      "id": "5f9d9cef-5f61-4432-a727-f8b11ef70108",
      "metadata": {
        "id": "5f9d9cef-5f61-4432-a727-f8b11ef70108"
      },
      "outputs": [],
      "source": [
        "# Predicciones con df_drop\n",
        "predictores= ['Age', 'RestingBP', 'Cholesterol', 'FastingBS', 'MaxHR', 'Oldpeak', 'Sex_M', 'ChestPainType_ATA', 'ChestPainType_NAP',\n",
        "       'ChestPainType_TA', 'RestingECG_Normal', 'RestingECG_ST',\n",
        "       'ExerciseAngina_Y', 'ST_Slope_Flat', 'ST_Slope_Up']\n",
        "objetivo= 'HeartDisease'\n",
        "y= df_encoded_drop[objetivo].values\n",
        "X= df_encoded_drop[predictores].values"
      ]
    },
    {
      "cell_type": "code",
      "execution_count": null,
      "id": "317a01d4-4130-4d57-8c40-6274da7b5ca8",
      "metadata": {
        "id": "317a01d4-4130-4d57-8c40-6274da7b5ca8",
        "outputId": "15ccc41e-bd69-4334-8ef3-5230aef97a91"
      },
      "outputs": [
        {
          "name": "stdout",
          "output_type": "stream",
          "text": [
            "(343, 15)\n",
            "(86, 15)\n",
            "(343,)\n",
            "(86,)\n"
          ]
        }
      ],
      "source": [
        "from sklearn.model_selection import train_test_split\n",
        "# Crear conjuntos de entrenamiento y prueba\n",
        "X_train, X_test, y_train, y_test = train_test_split(X, y, test_size=0.2, random_state=42)\n",
        "print(X_train.shape)\n",
        "print(X_test.shape)\n",
        "print(y_train.shape)\n",
        "print(y_test.shape)"
      ]
    },
    {
      "cell_type": "code",
      "execution_count": null,
      "id": "8a9fe35c-4e8c-478b-bd28-c85065460905",
      "metadata": {
        "id": "8a9fe35c-4e8c-478b-bd28-c85065460905",
        "outputId": "6e0286b3-dc3c-405b-c7ff-1469fdf7316f"
      },
      "outputs": [
        {
          "data": {
            "text/html": [
              "<style>#sk-container-id-1 {color: black;background-color: white;}#sk-container-id-1 pre{padding: 0;}#sk-container-id-1 div.sk-toggleable {background-color: white;}#sk-container-id-1 label.sk-toggleable__label {cursor: pointer;display: block;width: 100%;margin-bottom: 0;padding: 0.3em;box-sizing: border-box;text-align: center;}#sk-container-id-1 label.sk-toggleable__label-arrow:before {content: \"▸\";float: left;margin-right: 0.25em;color: #696969;}#sk-container-id-1 label.sk-toggleable__label-arrow:hover:before {color: black;}#sk-container-id-1 div.sk-estimator:hover label.sk-toggleable__label-arrow:before {color: black;}#sk-container-id-1 div.sk-toggleable__content {max-height: 0;max-width: 0;overflow: hidden;text-align: left;background-color: #f0f8ff;}#sk-container-id-1 div.sk-toggleable__content pre {margin: 0.2em;color: black;border-radius: 0.25em;background-color: #f0f8ff;}#sk-container-id-1 input.sk-toggleable__control:checked~div.sk-toggleable__content {max-height: 200px;max-width: 100%;overflow: auto;}#sk-container-id-1 input.sk-toggleable__control:checked~label.sk-toggleable__label-arrow:before {content: \"▾\";}#sk-container-id-1 div.sk-estimator input.sk-toggleable__control:checked~label.sk-toggleable__label {background-color: #d4ebff;}#sk-container-id-1 div.sk-label input.sk-toggleable__control:checked~label.sk-toggleable__label {background-color: #d4ebff;}#sk-container-id-1 input.sk-hidden--visually {border: 0;clip: rect(1px 1px 1px 1px);clip: rect(1px, 1px, 1px, 1px);height: 1px;margin: -1px;overflow: hidden;padding: 0;position: absolute;width: 1px;}#sk-container-id-1 div.sk-estimator {font-family: monospace;background-color: #f0f8ff;border: 1px dotted black;border-radius: 0.25em;box-sizing: border-box;margin-bottom: 0.5em;}#sk-container-id-1 div.sk-estimator:hover {background-color: #d4ebff;}#sk-container-id-1 div.sk-parallel-item::after {content: \"\";width: 100%;border-bottom: 1px solid gray;flex-grow: 1;}#sk-container-id-1 div.sk-label:hover label.sk-toggleable__label {background-color: #d4ebff;}#sk-container-id-1 div.sk-serial::before {content: \"\";position: absolute;border-left: 1px solid gray;box-sizing: border-box;top: 0;bottom: 0;left: 50%;z-index: 0;}#sk-container-id-1 div.sk-serial {display: flex;flex-direction: column;align-items: center;background-color: white;padding-right: 0.2em;padding-left: 0.2em;position: relative;}#sk-container-id-1 div.sk-item {position: relative;z-index: 1;}#sk-container-id-1 div.sk-parallel {display: flex;align-items: stretch;justify-content: center;background-color: white;position: relative;}#sk-container-id-1 div.sk-item::before, #sk-container-id-1 div.sk-parallel-item::before {content: \"\";position: absolute;border-left: 1px solid gray;box-sizing: border-box;top: 0;bottom: 0;left: 50%;z-index: -1;}#sk-container-id-1 div.sk-parallel-item {display: flex;flex-direction: column;z-index: 1;position: relative;background-color: white;}#sk-container-id-1 div.sk-parallel-item:first-child::after {align-self: flex-end;width: 50%;}#sk-container-id-1 div.sk-parallel-item:last-child::after {align-self: flex-start;width: 50%;}#sk-container-id-1 div.sk-parallel-item:only-child::after {width: 0;}#sk-container-id-1 div.sk-dashed-wrapped {border: 1px dashed gray;margin: 0 0.4em 0.5em 0.4em;box-sizing: border-box;padding-bottom: 0.4em;background-color: white;}#sk-container-id-1 div.sk-label label {font-family: monospace;font-weight: bold;display: inline-block;line-height: 1.2em;}#sk-container-id-1 div.sk-label-container {text-align: center;}#sk-container-id-1 div.sk-container {/* jupyter's `normalize.less` sets `[hidden] { display: none; }` but bootstrap.min.css set `[hidden] { display: none !important; }` so we also need the `!important` here to be able to override the default hidden behavior on the sphinx rendered scikit-learn.org. See: https://github.com/scikit-learn/scikit-learn/issues/21755 */display: inline-block !important;position: relative;}#sk-container-id-1 div.sk-text-repr-fallback {display: none;}</style><div id=\"sk-container-id-1\" class=\"sk-top-container\"><div class=\"sk-text-repr-fallback\"><pre>LogisticRegression(max_iter=2000)</pre><b>In a Jupyter environment, please rerun this cell to show the HTML representation or trust the notebook. <br />On GitHub, the HTML representation is unable to render, please try loading this page with nbviewer.org.</b></div><div class=\"sk-container\" hidden><div class=\"sk-item\"><div class=\"sk-estimator sk-toggleable\"><input class=\"sk-toggleable__control sk-hidden--visually\" id=\"sk-estimator-id-1\" type=\"checkbox\" checked><label for=\"sk-estimator-id-1\" class=\"sk-toggleable__label sk-toggleable__label-arrow\">LogisticRegression</label><div class=\"sk-toggleable__content\"><pre>LogisticRegression(max_iter=2000)</pre></div></div></div></div></div>"
            ],
            "text/plain": [
              "LogisticRegression(max_iter=2000)"
            ]
          },
          "execution_count": 24,
          "metadata": {},
          "output_type": "execute_result"
        }
      ],
      "source": [
        "# Se importa el modelo\n",
        "from sklearn.linear_model import LogisticRegression\n",
        "\n",
        "#Se crea el modelo\n",
        "log_reg = LogisticRegression(solver='lbfgs',max_iter=2000)\n",
        "#se entrena el modelo\n",
        "log_reg.fit(X_train, y_train)"
      ]
    },
    {
      "cell_type": "code",
      "execution_count": null,
      "id": "cdfd3b91-d09b-4b3e-a5a9-a8cde4c9a48a",
      "metadata": {
        "id": "cdfd3b91-d09b-4b3e-a5a9-a8cde4c9a48a",
        "outputId": "44123ecb-df31-4869-ce06-184dc47884a0"
      },
      "outputs": [
        {
          "name": "stdout",
          "output_type": "stream",
          "text": [
            "Score borrando los nulos - eliminando las filas con ceros de Cholesterol, RestingBP, Oldpeak\n"
          ]
        },
        {
          "data": {
            "text/plain": [
              "0.8488372093023255"
            ]
          },
          "execution_count": 25,
          "metadata": {},
          "output_type": "execute_result"
        }
      ],
      "source": [
        "print('Score borrando los nulos - eliminando las filas con ceros de Cholesterol, RestingBP, Oldpeak')\n",
        "Score_drop=log_reg.score(X_test, y_test)\n",
        "Score_drop"
      ]
    },
    {
      "cell_type": "markdown",
      "id": "e4e4c44b-05fe-4045-97fb-2ca9c9dc0138",
      "metadata": {
        "id": "e4e4c44b-05fe-4045-97fb-2ca9c9dc0138"
      },
      "source": [
        "# Calculando Score con el método de la media (df_imp_media)"
      ]
    },
    {
      "cell_type": "code",
      "execution_count": null,
      "id": "fac47b47-492e-4ee6-a502-e25c452bc933",
      "metadata": {
        "id": "fac47b47-492e-4ee6-a502-e25c452bc933",
        "outputId": "44b7fbbd-9032-4740-b5e1-94867369d50b"
      },
      "outputs": [
        {
          "data": {
            "text/html": [
              "<div>\n",
              "<style scoped>\n",
              "    .dataframe tbody tr th:only-of-type {\n",
              "        vertical-align: middle;\n",
              "    }\n",
              "\n",
              "    .dataframe tbody tr th {\n",
              "        vertical-align: top;\n",
              "    }\n",
              "\n",
              "    .dataframe thead th {\n",
              "        text-align: right;\n",
              "    }\n",
              "</style>\n",
              "<table border=\"1\" class=\"dataframe\">\n",
              "  <thead>\n",
              "    <tr style=\"text-align: right;\">\n",
              "      <th></th>\n",
              "      <th>Age</th>\n",
              "      <th>RestingBP</th>\n",
              "      <th>Cholesterol</th>\n",
              "      <th>FastingBS</th>\n",
              "      <th>MaxHR</th>\n",
              "      <th>Oldpeak</th>\n",
              "      <th>HeartDisease</th>\n",
              "      <th>Sex_M</th>\n",
              "      <th>ChestPainType_ATA</th>\n",
              "      <th>ChestPainType_NAP</th>\n",
              "      <th>ChestPainType_TA</th>\n",
              "      <th>RestingECG_Normal</th>\n",
              "      <th>RestingECG_ST</th>\n",
              "      <th>ExerciseAngina_Y</th>\n",
              "      <th>ST_Slope_Flat</th>\n",
              "      <th>ST_Slope_Up</th>\n",
              "    </tr>\n",
              "  </thead>\n",
              "  <tbody>\n",
              "    <tr>\n",
              "      <th>0</th>\n",
              "      <td>40</td>\n",
              "      <td>140</td>\n",
              "      <td>289</td>\n",
              "      <td>0</td>\n",
              "      <td>172</td>\n",
              "      <td>0.6</td>\n",
              "      <td>0</td>\n",
              "      <td>True</td>\n",
              "      <td>True</td>\n",
              "      <td>False</td>\n",
              "      <td>False</td>\n",
              "      <td>True</td>\n",
              "      <td>False</td>\n",
              "      <td>False</td>\n",
              "      <td>False</td>\n",
              "      <td>True</td>\n",
              "    </tr>\n",
              "    <tr>\n",
              "      <th>1</th>\n",
              "      <td>49</td>\n",
              "      <td>160</td>\n",
              "      <td>180</td>\n",
              "      <td>0</td>\n",
              "      <td>156</td>\n",
              "      <td>1.0</td>\n",
              "      <td>1</td>\n",
              "      <td>False</td>\n",
              "      <td>False</td>\n",
              "      <td>True</td>\n",
              "      <td>False</td>\n",
              "      <td>True</td>\n",
              "      <td>False</td>\n",
              "      <td>False</td>\n",
              "      <td>True</td>\n",
              "      <td>False</td>\n",
              "    </tr>\n",
              "    <tr>\n",
              "      <th>2</th>\n",
              "      <td>37</td>\n",
              "      <td>130</td>\n",
              "      <td>283</td>\n",
              "      <td>0</td>\n",
              "      <td>98</td>\n",
              "      <td>0.6</td>\n",
              "      <td>0</td>\n",
              "      <td>True</td>\n",
              "      <td>True</td>\n",
              "      <td>False</td>\n",
              "      <td>False</td>\n",
              "      <td>False</td>\n",
              "      <td>True</td>\n",
              "      <td>False</td>\n",
              "      <td>False</td>\n",
              "      <td>True</td>\n",
              "    </tr>\n",
              "    <tr>\n",
              "      <th>3</th>\n",
              "      <td>48</td>\n",
              "      <td>138</td>\n",
              "      <td>214</td>\n",
              "      <td>0</td>\n",
              "      <td>108</td>\n",
              "      <td>1.5</td>\n",
              "      <td>1</td>\n",
              "      <td>False</td>\n",
              "      <td>False</td>\n",
              "      <td>False</td>\n",
              "      <td>False</td>\n",
              "      <td>True</td>\n",
              "      <td>False</td>\n",
              "      <td>True</td>\n",
              "      <td>True</td>\n",
              "      <td>False</td>\n",
              "    </tr>\n",
              "    <tr>\n",
              "      <th>4</th>\n",
              "      <td>54</td>\n",
              "      <td>150</td>\n",
              "      <td>195</td>\n",
              "      <td>0</td>\n",
              "      <td>122</td>\n",
              "      <td>0.6</td>\n",
              "      <td>0</td>\n",
              "      <td>True</td>\n",
              "      <td>False</td>\n",
              "      <td>True</td>\n",
              "      <td>False</td>\n",
              "      <td>True</td>\n",
              "      <td>False</td>\n",
              "      <td>False</td>\n",
              "      <td>False</td>\n",
              "      <td>True</td>\n",
              "    </tr>\n",
              "  </tbody>\n",
              "</table>\n",
              "</div>"
            ],
            "text/plain": [
              "   Age  RestingBP  Cholesterol  FastingBS  MaxHR  Oldpeak  HeartDisease  \\\n",
              "0   40        140          289          0    172      0.6             0   \n",
              "1   49        160          180          0    156      1.0             1   \n",
              "2   37        130          283          0     98      0.6             0   \n",
              "3   48        138          214          0    108      1.5             1   \n",
              "4   54        150          195          0    122      0.6             0   \n",
              "\n",
              "   Sex_M  ChestPainType_ATA  ChestPainType_NAP  ChestPainType_TA  \\\n",
              "0   True               True              False             False   \n",
              "1  False              False               True             False   \n",
              "2   True               True              False             False   \n",
              "3  False              False              False             False   \n",
              "4   True              False               True             False   \n",
              "\n",
              "   RestingECG_Normal  RestingECG_ST  ExerciseAngina_Y  ST_Slope_Flat  \\\n",
              "0               True          False             False          False   \n",
              "1               True          False             False           True   \n",
              "2              False           True             False          False   \n",
              "3               True          False              True           True   \n",
              "4               True          False             False          False   \n",
              "\n",
              "   ST_Slope_Up  \n",
              "0         True  \n",
              "1        False  \n",
              "2         True  \n",
              "3        False  \n",
              "4         True  "
            ]
          },
          "execution_count": 26,
          "metadata": {},
          "output_type": "execute_result"
        }
      ],
      "source": [
        "# Decodificando df_encoded_media con One-Hot Encoding\n",
        "df_encoded_media = pd.get_dummies(df_imp_media,\n",
        "                            columns=['Sex', 'ChestPainType', 'RestingECG', 'ExerciseAngina', 'ST_Slope'],\n",
        "                            drop_first=True) # Drop first to avoid multicollinearity\n",
        "\n",
        "df_encoded_media.head()"
      ]
    },
    {
      "cell_type": "code",
      "execution_count": null,
      "id": "df98982a-cf6f-4bdd-865c-aab5059f6b39",
      "metadata": {
        "id": "df98982a-cf6f-4bdd-865c-aab5059f6b39"
      },
      "outputs": [],
      "source": [
        "# Predicciones con df_imp_media\n",
        "predictores_med= ['Age', 'RestingBP', 'Cholesterol', 'FastingBS', 'MaxHR', 'Oldpeak', 'Sex_M', 'ChestPainType_ATA', 'ChestPainType_NAP',\n",
        "       'ChestPainType_TA', 'RestingECG_Normal', 'RestingECG_ST',\n",
        "       'ExerciseAngina_Y', 'ST_Slope_Flat', 'ST_Slope_Up']\n",
        "objetivo_med= 'HeartDisease'\n",
        "y_med= df_encoded_media[objetivo_med].values\n",
        "X_med= df_encoded_media[predictores_med].values"
      ]
    },
    {
      "cell_type": "code",
      "execution_count": null,
      "id": "c87e25b2-75d4-491d-a126-66219cb28715",
      "metadata": {
        "id": "c87e25b2-75d4-491d-a126-66219cb28715",
        "outputId": "914b73ea-d266-49b6-8b4f-25a8a6588f06"
      },
      "outputs": [
        {
          "name": "stdout",
          "output_type": "stream",
          "text": [
            "(734, 15)\n",
            "(184, 15)\n",
            "(734,)\n",
            "(184,)\n"
          ]
        }
      ],
      "source": [
        "# Crear conjuntos de entrenamiento y prueba\n",
        "X_train_med, X_test_med, y_train_med, y_test_med = train_test_split(X_med, y_med, test_size=0.2, random_state=42)\n",
        "print(X_train_med.shape)\n",
        "print(X_test_med.shape)\n",
        "print(y_train_med.shape)\n",
        "print(y_test_med.shape)"
      ]
    },
    {
      "cell_type": "code",
      "execution_count": null,
      "id": "90dcff33-c2dc-4d1d-81ab-932b542bb153",
      "metadata": {
        "id": "90dcff33-c2dc-4d1d-81ab-932b542bb153",
        "outputId": "9d564ed5-438c-42d1-c38c-5aabd8d0ee8d"
      },
      "outputs": [
        {
          "data": {
            "text/html": [
              "<style>#sk-container-id-2 {color: black;background-color: white;}#sk-container-id-2 pre{padding: 0;}#sk-container-id-2 div.sk-toggleable {background-color: white;}#sk-container-id-2 label.sk-toggleable__label {cursor: pointer;display: block;width: 100%;margin-bottom: 0;padding: 0.3em;box-sizing: border-box;text-align: center;}#sk-container-id-2 label.sk-toggleable__label-arrow:before {content: \"▸\";float: left;margin-right: 0.25em;color: #696969;}#sk-container-id-2 label.sk-toggleable__label-arrow:hover:before {color: black;}#sk-container-id-2 div.sk-estimator:hover label.sk-toggleable__label-arrow:before {color: black;}#sk-container-id-2 div.sk-toggleable__content {max-height: 0;max-width: 0;overflow: hidden;text-align: left;background-color: #f0f8ff;}#sk-container-id-2 div.sk-toggleable__content pre {margin: 0.2em;color: black;border-radius: 0.25em;background-color: #f0f8ff;}#sk-container-id-2 input.sk-toggleable__control:checked~div.sk-toggleable__content {max-height: 200px;max-width: 100%;overflow: auto;}#sk-container-id-2 input.sk-toggleable__control:checked~label.sk-toggleable__label-arrow:before {content: \"▾\";}#sk-container-id-2 div.sk-estimator input.sk-toggleable__control:checked~label.sk-toggleable__label {background-color: #d4ebff;}#sk-container-id-2 div.sk-label input.sk-toggleable__control:checked~label.sk-toggleable__label {background-color: #d4ebff;}#sk-container-id-2 input.sk-hidden--visually {border: 0;clip: rect(1px 1px 1px 1px);clip: rect(1px, 1px, 1px, 1px);height: 1px;margin: -1px;overflow: hidden;padding: 0;position: absolute;width: 1px;}#sk-container-id-2 div.sk-estimator {font-family: monospace;background-color: #f0f8ff;border: 1px dotted black;border-radius: 0.25em;box-sizing: border-box;margin-bottom: 0.5em;}#sk-container-id-2 div.sk-estimator:hover {background-color: #d4ebff;}#sk-container-id-2 div.sk-parallel-item::after {content: \"\";width: 100%;border-bottom: 1px solid gray;flex-grow: 1;}#sk-container-id-2 div.sk-label:hover label.sk-toggleable__label {background-color: #d4ebff;}#sk-container-id-2 div.sk-serial::before {content: \"\";position: absolute;border-left: 1px solid gray;box-sizing: border-box;top: 0;bottom: 0;left: 50%;z-index: 0;}#sk-container-id-2 div.sk-serial {display: flex;flex-direction: column;align-items: center;background-color: white;padding-right: 0.2em;padding-left: 0.2em;position: relative;}#sk-container-id-2 div.sk-item {position: relative;z-index: 1;}#sk-container-id-2 div.sk-parallel {display: flex;align-items: stretch;justify-content: center;background-color: white;position: relative;}#sk-container-id-2 div.sk-item::before, #sk-container-id-2 div.sk-parallel-item::before {content: \"\";position: absolute;border-left: 1px solid gray;box-sizing: border-box;top: 0;bottom: 0;left: 50%;z-index: -1;}#sk-container-id-2 div.sk-parallel-item {display: flex;flex-direction: column;z-index: 1;position: relative;background-color: white;}#sk-container-id-2 div.sk-parallel-item:first-child::after {align-self: flex-end;width: 50%;}#sk-container-id-2 div.sk-parallel-item:last-child::after {align-self: flex-start;width: 50%;}#sk-container-id-2 div.sk-parallel-item:only-child::after {width: 0;}#sk-container-id-2 div.sk-dashed-wrapped {border: 1px dashed gray;margin: 0 0.4em 0.5em 0.4em;box-sizing: border-box;padding-bottom: 0.4em;background-color: white;}#sk-container-id-2 div.sk-label label {font-family: monospace;font-weight: bold;display: inline-block;line-height: 1.2em;}#sk-container-id-2 div.sk-label-container {text-align: center;}#sk-container-id-2 div.sk-container {/* jupyter's `normalize.less` sets `[hidden] { display: none; }` but bootstrap.min.css set `[hidden] { display: none !important; }` so we also need the `!important` here to be able to override the default hidden behavior on the sphinx rendered scikit-learn.org. See: https://github.com/scikit-learn/scikit-learn/issues/21755 */display: inline-block !important;position: relative;}#sk-container-id-2 div.sk-text-repr-fallback {display: none;}</style><div id=\"sk-container-id-2\" class=\"sk-top-container\"><div class=\"sk-text-repr-fallback\"><pre>LogisticRegression(max_iter=2000)</pre><b>In a Jupyter environment, please rerun this cell to show the HTML representation or trust the notebook. <br />On GitHub, the HTML representation is unable to render, please try loading this page with nbviewer.org.</b></div><div class=\"sk-container\" hidden><div class=\"sk-item\"><div class=\"sk-estimator sk-toggleable\"><input class=\"sk-toggleable__control sk-hidden--visually\" id=\"sk-estimator-id-2\" type=\"checkbox\" checked><label for=\"sk-estimator-id-2\" class=\"sk-toggleable__label sk-toggleable__label-arrow\">LogisticRegression</label><div class=\"sk-toggleable__content\"><pre>LogisticRegression(max_iter=2000)</pre></div></div></div></div></div>"
            ],
            "text/plain": [
              "LogisticRegression(max_iter=2000)"
            ]
          },
          "execution_count": 29,
          "metadata": {},
          "output_type": "execute_result"
        }
      ],
      "source": [
        "#Se crea el modelo\n",
        "log_reg_med = LogisticRegression(solver='lbfgs',max_iter=2000)\n",
        "#se entrena el modelo\n",
        "log_reg_med.fit(X_train_med, y_train_med)"
      ]
    },
    {
      "cell_type": "code",
      "execution_count": null,
      "id": "0c512143-8d56-4f27-ac61-4f009ce00e45",
      "metadata": {
        "id": "0c512143-8d56-4f27-ac61-4f009ce00e45",
        "outputId": "68cb96b1-7c48-495d-9319-a058ffe25eee"
      },
      "outputs": [
        {
          "name": "stdout",
          "output_type": "stream",
          "text": [
            "Score borrando los nulos - eliminando las filas con ceros en Cholesterol, RestingBP, Oldpeak\n"
          ]
        },
        {
          "data": {
            "text/plain": [
              "0.872093023255814"
            ]
          },
          "execution_count": 30,
          "metadata": {},
          "output_type": "execute_result"
        }
      ],
      "source": [
        "print('Score borrando los nulos - eliminando las filas con ceros en Cholesterol, RestingBP, Oldpeak')\n",
        "Score_med=log_reg_med.score(X_test, y_test)\n",
        "Score_med"
      ]
    },
    {
      "cell_type": "markdown",
      "id": "5182c9f8-e977-48a2-81c8-738e223653b5",
      "metadata": {
        "id": "5182c9f8-e977-48a2-81c8-738e223653b5"
      },
      "source": [
        "### Calculando Score con el método KNN"
      ]
    },
    {
      "cell_type": "code",
      "execution_count": null,
      "id": "e6bd1e6b-9b42-464e-a0f2-a681ca5b07d9",
      "metadata": {
        "id": "e6bd1e6b-9b42-464e-a0f2-a681ca5b07d9",
        "outputId": "b35d0bd7-b269-425f-b84a-18164ae74d76"
      },
      "outputs": [
        {
          "data": {
            "text/html": [
              "<div>\n",
              "<style scoped>\n",
              "    .dataframe tbody tr th:only-of-type {\n",
              "        vertical-align: middle;\n",
              "    }\n",
              "\n",
              "    .dataframe tbody tr th {\n",
              "        vertical-align: top;\n",
              "    }\n",
              "\n",
              "    .dataframe thead th {\n",
              "        text-align: right;\n",
              "    }\n",
              "</style>\n",
              "<table border=\"1\" class=\"dataframe\">\n",
              "  <thead>\n",
              "    <tr style=\"text-align: right;\">\n",
              "      <th></th>\n",
              "      <th>Age</th>\n",
              "      <th>RestingBP</th>\n",
              "      <th>Cholesterol</th>\n",
              "      <th>FastingBS</th>\n",
              "      <th>MaxHR</th>\n",
              "      <th>Oldpeak</th>\n",
              "      <th>HeartDisease</th>\n",
              "      <th>Sex_M</th>\n",
              "      <th>ChestPainType_ATA</th>\n",
              "      <th>ChestPainType_NAP</th>\n",
              "      <th>ChestPainType_TA</th>\n",
              "      <th>RestingECG_Normal</th>\n",
              "      <th>RestingECG_ST</th>\n",
              "      <th>ExerciseAngina_Y</th>\n",
              "      <th>ST_Slope_Flat</th>\n",
              "      <th>ST_Slope_Up</th>\n",
              "    </tr>\n",
              "  </thead>\n",
              "  <tbody>\n",
              "    <tr>\n",
              "      <th>0</th>\n",
              "      <td>40</td>\n",
              "      <td>140.0</td>\n",
              "      <td>289.0</td>\n",
              "      <td>0</td>\n",
              "      <td>172</td>\n",
              "      <td>1.60</td>\n",
              "      <td>0</td>\n",
              "      <td>True</td>\n",
              "      <td>True</td>\n",
              "      <td>False</td>\n",
              "      <td>False</td>\n",
              "      <td>True</td>\n",
              "      <td>False</td>\n",
              "      <td>False</td>\n",
              "      <td>False</td>\n",
              "      <td>True</td>\n",
              "    </tr>\n",
              "    <tr>\n",
              "      <th>1</th>\n",
              "      <td>49</td>\n",
              "      <td>160.0</td>\n",
              "      <td>180.0</td>\n",
              "      <td>0</td>\n",
              "      <td>156</td>\n",
              "      <td>1.00</td>\n",
              "      <td>1</td>\n",
              "      <td>False</td>\n",
              "      <td>False</td>\n",
              "      <td>True</td>\n",
              "      <td>False</td>\n",
              "      <td>True</td>\n",
              "      <td>False</td>\n",
              "      <td>False</td>\n",
              "      <td>True</td>\n",
              "      <td>False</td>\n",
              "    </tr>\n",
              "    <tr>\n",
              "      <th>2</th>\n",
              "      <td>37</td>\n",
              "      <td>130.0</td>\n",
              "      <td>283.0</td>\n",
              "      <td>0</td>\n",
              "      <td>98</td>\n",
              "      <td>1.60</td>\n",
              "      <td>0</td>\n",
              "      <td>True</td>\n",
              "      <td>True</td>\n",
              "      <td>False</td>\n",
              "      <td>False</td>\n",
              "      <td>False</td>\n",
              "      <td>True</td>\n",
              "      <td>False</td>\n",
              "      <td>False</td>\n",
              "      <td>True</td>\n",
              "    </tr>\n",
              "    <tr>\n",
              "      <th>3</th>\n",
              "      <td>48</td>\n",
              "      <td>138.0</td>\n",
              "      <td>214.0</td>\n",
              "      <td>0</td>\n",
              "      <td>108</td>\n",
              "      <td>1.50</td>\n",
              "      <td>1</td>\n",
              "      <td>False</td>\n",
              "      <td>False</td>\n",
              "      <td>False</td>\n",
              "      <td>False</td>\n",
              "      <td>True</td>\n",
              "      <td>False</td>\n",
              "      <td>True</td>\n",
              "      <td>True</td>\n",
              "      <td>False</td>\n",
              "    </tr>\n",
              "    <tr>\n",
              "      <th>4</th>\n",
              "      <td>54</td>\n",
              "      <td>150.0</td>\n",
              "      <td>195.0</td>\n",
              "      <td>0</td>\n",
              "      <td>122</td>\n",
              "      <td>2.34</td>\n",
              "      <td>0</td>\n",
              "      <td>True</td>\n",
              "      <td>False</td>\n",
              "      <td>True</td>\n",
              "      <td>False</td>\n",
              "      <td>True</td>\n",
              "      <td>False</td>\n",
              "      <td>False</td>\n",
              "      <td>False</td>\n",
              "      <td>True</td>\n",
              "    </tr>\n",
              "  </tbody>\n",
              "</table>\n",
              "</div>"
            ],
            "text/plain": [
              "   Age  RestingBP  Cholesterol  FastingBS  MaxHR  Oldpeak  HeartDisease  \\\n",
              "0   40      140.0        289.0          0    172     1.60             0   \n",
              "1   49      160.0        180.0          0    156     1.00             1   \n",
              "2   37      130.0        283.0          0     98     1.60             0   \n",
              "3   48      138.0        214.0          0    108     1.50             1   \n",
              "4   54      150.0        195.0          0    122     2.34             0   \n",
              "\n",
              "   Sex_M  ChestPainType_ATA  ChestPainType_NAP  ChestPainType_TA  \\\n",
              "0   True               True              False             False   \n",
              "1  False              False               True             False   \n",
              "2   True               True              False             False   \n",
              "3  False              False              False             False   \n",
              "4   True              False               True             False   \n",
              "\n",
              "   RestingECG_Normal  RestingECG_ST  ExerciseAngina_Y  ST_Slope_Flat  \\\n",
              "0               True          False             False          False   \n",
              "1               True          False             False           True   \n",
              "2              False           True             False          False   \n",
              "3               True          False              True           True   \n",
              "4               True          False             False          False   \n",
              "\n",
              "   ST_Slope_Up  \n",
              "0         True  \n",
              "1        False  \n",
              "2         True  \n",
              "3        False  \n",
              "4         True  "
            ]
          },
          "execution_count": 31,
          "metadata": {},
          "output_type": "execute_result"
        }
      ],
      "source": [
        "# Decodificando df_imp_knn\n",
        "df_encoded_knn = pd.get_dummies(df_imp_knn,\n",
        "                            columns=['Sex', 'ChestPainType', 'RestingECG', 'ExerciseAngina', 'ST_Slope'],\n",
        "                            drop_first=True) # Drop first to avoid multicollinearity\n",
        "\n",
        "df_encoded_knn.head()"
      ]
    },
    {
      "cell_type": "code",
      "execution_count": null,
      "id": "fad1edfd-7181-4719-bb1a-a7aef858fb2e",
      "metadata": {
        "id": "fad1edfd-7181-4719-bb1a-a7aef858fb2e"
      },
      "outputs": [],
      "source": [
        "# Predicciones con df_imp_knn codificado\n",
        "predictores_knn= ['Age', 'RestingBP', 'Cholesterol', 'FastingBS', 'MaxHR', 'Oldpeak', 'Sex_M', 'ChestPainType_ATA', 'ChestPainType_NAP',\n",
        "       'ChestPainType_TA', 'RestingECG_Normal', 'RestingECG_ST',\n",
        "       'ExerciseAngina_Y', 'ST_Slope_Flat', 'ST_Slope_Up']\n",
        "objetivo_knn= 'HeartDisease'\n",
        "y_knn= df_encoded_knn[objetivo_med].values\n",
        "X_knn= df_encoded_knn[predictores_med].values"
      ]
    },
    {
      "cell_type": "code",
      "execution_count": null,
      "id": "02bc1de3-9ed4-414e-a521-fe892bd0d946",
      "metadata": {
        "id": "02bc1de3-9ed4-414e-a521-fe892bd0d946",
        "outputId": "c9506228-fb4b-41b0-9310-a3de403d4224"
      },
      "outputs": [
        {
          "name": "stdout",
          "output_type": "stream",
          "text": [
            "(734, 15)\n",
            "(184, 15)\n",
            "(734,)\n",
            "(184,)\n"
          ]
        }
      ],
      "source": [
        "# Crear conjuntos de entrenamiento y prueba\n",
        "X_train_knn, X_test_knn, y_train_knn, y_test_knn = train_test_split(X_knn, y_knn, test_size=0.2, random_state=42)\n",
        "print(X_train_knn.shape)\n",
        "print(X_test_knn.shape)\n",
        "print(y_train_knn.shape)\n",
        "print(y_test_knn.shape)"
      ]
    },
    {
      "cell_type": "code",
      "execution_count": null,
      "id": "ef7bf529-5b6b-42f5-b5b8-9b7288e93fce",
      "metadata": {
        "id": "ef7bf529-5b6b-42f5-b5b8-9b7288e93fce",
        "outputId": "52bbc0cd-ddcc-4f99-f834-02c07f2d2dd7"
      },
      "outputs": [
        {
          "data": {
            "text/html": [
              "<style>#sk-container-id-3 {color: black;background-color: white;}#sk-container-id-3 pre{padding: 0;}#sk-container-id-3 div.sk-toggleable {background-color: white;}#sk-container-id-3 label.sk-toggleable__label {cursor: pointer;display: block;width: 100%;margin-bottom: 0;padding: 0.3em;box-sizing: border-box;text-align: center;}#sk-container-id-3 label.sk-toggleable__label-arrow:before {content: \"▸\";float: left;margin-right: 0.25em;color: #696969;}#sk-container-id-3 label.sk-toggleable__label-arrow:hover:before {color: black;}#sk-container-id-3 div.sk-estimator:hover label.sk-toggleable__label-arrow:before {color: black;}#sk-container-id-3 div.sk-toggleable__content {max-height: 0;max-width: 0;overflow: hidden;text-align: left;background-color: #f0f8ff;}#sk-container-id-3 div.sk-toggleable__content pre {margin: 0.2em;color: black;border-radius: 0.25em;background-color: #f0f8ff;}#sk-container-id-3 input.sk-toggleable__control:checked~div.sk-toggleable__content {max-height: 200px;max-width: 100%;overflow: auto;}#sk-container-id-3 input.sk-toggleable__control:checked~label.sk-toggleable__label-arrow:before {content: \"▾\";}#sk-container-id-3 div.sk-estimator input.sk-toggleable__control:checked~label.sk-toggleable__label {background-color: #d4ebff;}#sk-container-id-3 div.sk-label input.sk-toggleable__control:checked~label.sk-toggleable__label {background-color: #d4ebff;}#sk-container-id-3 input.sk-hidden--visually {border: 0;clip: rect(1px 1px 1px 1px);clip: rect(1px, 1px, 1px, 1px);height: 1px;margin: -1px;overflow: hidden;padding: 0;position: absolute;width: 1px;}#sk-container-id-3 div.sk-estimator {font-family: monospace;background-color: #f0f8ff;border: 1px dotted black;border-radius: 0.25em;box-sizing: border-box;margin-bottom: 0.5em;}#sk-container-id-3 div.sk-estimator:hover {background-color: #d4ebff;}#sk-container-id-3 div.sk-parallel-item::after {content: \"\";width: 100%;border-bottom: 1px solid gray;flex-grow: 1;}#sk-container-id-3 div.sk-label:hover label.sk-toggleable__label {background-color: #d4ebff;}#sk-container-id-3 div.sk-serial::before {content: \"\";position: absolute;border-left: 1px solid gray;box-sizing: border-box;top: 0;bottom: 0;left: 50%;z-index: 0;}#sk-container-id-3 div.sk-serial {display: flex;flex-direction: column;align-items: center;background-color: white;padding-right: 0.2em;padding-left: 0.2em;position: relative;}#sk-container-id-3 div.sk-item {position: relative;z-index: 1;}#sk-container-id-3 div.sk-parallel {display: flex;align-items: stretch;justify-content: center;background-color: white;position: relative;}#sk-container-id-3 div.sk-item::before, #sk-container-id-3 div.sk-parallel-item::before {content: \"\";position: absolute;border-left: 1px solid gray;box-sizing: border-box;top: 0;bottom: 0;left: 50%;z-index: -1;}#sk-container-id-3 div.sk-parallel-item {display: flex;flex-direction: column;z-index: 1;position: relative;background-color: white;}#sk-container-id-3 div.sk-parallel-item:first-child::after {align-self: flex-end;width: 50%;}#sk-container-id-3 div.sk-parallel-item:last-child::after {align-self: flex-start;width: 50%;}#sk-container-id-3 div.sk-parallel-item:only-child::after {width: 0;}#sk-container-id-3 div.sk-dashed-wrapped {border: 1px dashed gray;margin: 0 0.4em 0.5em 0.4em;box-sizing: border-box;padding-bottom: 0.4em;background-color: white;}#sk-container-id-3 div.sk-label label {font-family: monospace;font-weight: bold;display: inline-block;line-height: 1.2em;}#sk-container-id-3 div.sk-label-container {text-align: center;}#sk-container-id-3 div.sk-container {/* jupyter's `normalize.less` sets `[hidden] { display: none; }` but bootstrap.min.css set `[hidden] { display: none !important; }` so we also need the `!important` here to be able to override the default hidden behavior on the sphinx rendered scikit-learn.org. See: https://github.com/scikit-learn/scikit-learn/issues/21755 */display: inline-block !important;position: relative;}#sk-container-id-3 div.sk-text-repr-fallback {display: none;}</style><div id=\"sk-container-id-3\" class=\"sk-top-container\"><div class=\"sk-text-repr-fallback\"><pre>LogisticRegression(max_iter=2000)</pre><b>In a Jupyter environment, please rerun this cell to show the HTML representation or trust the notebook. <br />On GitHub, the HTML representation is unable to render, please try loading this page with nbviewer.org.</b></div><div class=\"sk-container\" hidden><div class=\"sk-item\"><div class=\"sk-estimator sk-toggleable\"><input class=\"sk-toggleable__control sk-hidden--visually\" id=\"sk-estimator-id-3\" type=\"checkbox\" checked><label for=\"sk-estimator-id-3\" class=\"sk-toggleable__label sk-toggleable__label-arrow\">LogisticRegression</label><div class=\"sk-toggleable__content\"><pre>LogisticRegression(max_iter=2000)</pre></div></div></div></div></div>"
            ],
            "text/plain": [
              "LogisticRegression(max_iter=2000)"
            ]
          },
          "execution_count": 34,
          "metadata": {},
          "output_type": "execute_result"
        }
      ],
      "source": [
        "#Se crea el modelo\n",
        "log_reg_knn = LogisticRegression(solver='lbfgs',max_iter=2000)\n",
        "#se entrena el modelo\n",
        "log_reg_knn.fit(X_train_knn, y_train_knn)"
      ]
    },
    {
      "cell_type": "code",
      "execution_count": null,
      "id": "cb6321bc-9a6b-433b-9737-d9da506edcd6",
      "metadata": {
        "id": "cb6321bc-9a6b-433b-9737-d9da506edcd6",
        "outputId": "7eeaaa73-aca0-481d-e0bd-5df7ebd042e7"
      },
      "outputs": [
        {
          "name": "stdout",
          "output_type": "stream",
          "text": [
            "Score usando KNN para imputar las columnas de Cholesterol, RestingBP, Oldpeak (los ceros)\n"
          ]
        },
        {
          "data": {
            "text/plain": [
              "0.8641304347826086"
            ]
          },
          "execution_count": 35,
          "metadata": {},
          "output_type": "execute_result"
        }
      ],
      "source": [
        "print('Score usando KNN para imputar las columnas de Cholesterol, RestingBP, Oldpeak (los ceros)')\n",
        "Score_knn=log_reg_knn.score(X_test_knn, y_test_knn)\n",
        "Score_knn\n"
      ]
    },
    {
      "cell_type": "markdown",
      "id": "0827b69a-4bd6-478a-bb8e-881963a27974",
      "metadata": {
        "id": "0827b69a-4bd6-478a-bb8e-881963a27974"
      },
      "source": [
        "# Calculando Score con datos nulos"
      ]
    },
    {
      "cell_type": "code",
      "execution_count": null,
      "id": "c2dab55f-3f87-4ca0-8add-26b96891c32d",
      "metadata": {
        "id": "c2dab55f-3f87-4ca0-8add-26b96891c32d",
        "outputId": "9951ef32-fbee-4c3c-9cb0-9abbc95cc6cf"
      },
      "outputs": [
        {
          "data": {
            "text/html": [
              "<div>\n",
              "<style scoped>\n",
              "    .dataframe tbody tr th:only-of-type {\n",
              "        vertical-align: middle;\n",
              "    }\n",
              "\n",
              "    .dataframe tbody tr th {\n",
              "        vertical-align: top;\n",
              "    }\n",
              "\n",
              "    .dataframe thead th {\n",
              "        text-align: right;\n",
              "    }\n",
              "</style>\n",
              "<table border=\"1\" class=\"dataframe\">\n",
              "  <thead>\n",
              "    <tr style=\"text-align: right;\">\n",
              "      <th></th>\n",
              "      <th>Age</th>\n",
              "      <th>Sex</th>\n",
              "      <th>ChestPainType</th>\n",
              "      <th>RestingBP</th>\n",
              "      <th>Cholesterol</th>\n",
              "      <th>FastingBS</th>\n",
              "      <th>RestingECG</th>\n",
              "      <th>MaxHR</th>\n",
              "      <th>ExerciseAngina</th>\n",
              "      <th>Oldpeak</th>\n",
              "      <th>ST_Slope</th>\n",
              "      <th>HeartDisease</th>\n",
              "    </tr>\n",
              "  </thead>\n",
              "  <tbody>\n",
              "    <tr>\n",
              "      <th>0</th>\n",
              "      <td>40</td>\n",
              "      <td>M</td>\n",
              "      <td>ATA</td>\n",
              "      <td>140.0</td>\n",
              "      <td>289.0</td>\n",
              "      <td>0</td>\n",
              "      <td>Normal</td>\n",
              "      <td>172</td>\n",
              "      <td>N</td>\n",
              "      <td>NaN</td>\n",
              "      <td>Up</td>\n",
              "      <td>0</td>\n",
              "    </tr>\n",
              "    <tr>\n",
              "      <th>1</th>\n",
              "      <td>49</td>\n",
              "      <td>F</td>\n",
              "      <td>NAP</td>\n",
              "      <td>160.0</td>\n",
              "      <td>180.0</td>\n",
              "      <td>0</td>\n",
              "      <td>Normal</td>\n",
              "      <td>156</td>\n",
              "      <td>N</td>\n",
              "      <td>1.0</td>\n",
              "      <td>Flat</td>\n",
              "      <td>1</td>\n",
              "    </tr>\n",
              "    <tr>\n",
              "      <th>2</th>\n",
              "      <td>37</td>\n",
              "      <td>M</td>\n",
              "      <td>ATA</td>\n",
              "      <td>130.0</td>\n",
              "      <td>283.0</td>\n",
              "      <td>0</td>\n",
              "      <td>ST</td>\n",
              "      <td>98</td>\n",
              "      <td>N</td>\n",
              "      <td>NaN</td>\n",
              "      <td>Up</td>\n",
              "      <td>0</td>\n",
              "    </tr>\n",
              "    <tr>\n",
              "      <th>3</th>\n",
              "      <td>48</td>\n",
              "      <td>F</td>\n",
              "      <td>ASY</td>\n",
              "      <td>138.0</td>\n",
              "      <td>214.0</td>\n",
              "      <td>0</td>\n",
              "      <td>Normal</td>\n",
              "      <td>108</td>\n",
              "      <td>Y</td>\n",
              "      <td>1.5</td>\n",
              "      <td>Flat</td>\n",
              "      <td>1</td>\n",
              "    </tr>\n",
              "    <tr>\n",
              "      <th>4</th>\n",
              "      <td>54</td>\n",
              "      <td>M</td>\n",
              "      <td>NAP</td>\n",
              "      <td>150.0</td>\n",
              "      <td>195.0</td>\n",
              "      <td>0</td>\n",
              "      <td>Normal</td>\n",
              "      <td>122</td>\n",
              "      <td>N</td>\n",
              "      <td>NaN</td>\n",
              "      <td>Up</td>\n",
              "      <td>0</td>\n",
              "    </tr>\n",
              "  </tbody>\n",
              "</table>\n",
              "</div>"
            ],
            "text/plain": [
              "   Age Sex ChestPainType  RestingBP  Cholesterol  FastingBS RestingECG  MaxHR  \\\n",
              "0   40   M           ATA      140.0        289.0          0     Normal    172   \n",
              "1   49   F           NAP      160.0        180.0          0     Normal    156   \n",
              "2   37   M           ATA      130.0        283.0          0         ST     98   \n",
              "3   48   F           ASY      138.0        214.0          0     Normal    108   \n",
              "4   54   M           NAP      150.0        195.0          0     Normal    122   \n",
              "\n",
              "  ExerciseAngina  Oldpeak ST_Slope  HeartDisease  \n",
              "0              N      NaN       Up             0  \n",
              "1              N      1.0     Flat             1  \n",
              "2              N      NaN       Up             0  \n",
              "3              Y      1.5     Flat             1  \n",
              "4              N      NaN       Up             0  "
            ]
          },
          "execution_count": 36,
          "metadata": {},
          "output_type": "execute_result"
        }
      ],
      "source": [
        "df_nulos= df.copy()\n",
        "\n",
        "# Reemplazar ceros por NaN en df_nulos\n",
        "for col in ['Cholesterol', 'RestingBP', 'Oldpeak']:\n",
        "    df_nulos[col] = df_nulos[col].replace(0, np.nan)\n",
        "\n",
        "df_nulos.head()"
      ]
    },
    {
      "cell_type": "code",
      "execution_count": null,
      "id": "c849f268-a3a0-4c1d-8201-79f1801fc8a1",
      "metadata": {
        "id": "c849f268-a3a0-4c1d-8201-79f1801fc8a1",
        "outputId": "1d25029d-01f1-4705-93e3-1e9607cc46d5"
      },
      "outputs": [
        {
          "data": {
            "text/html": [
              "<div>\n",
              "<style scoped>\n",
              "    .dataframe tbody tr th:only-of-type {\n",
              "        vertical-align: middle;\n",
              "    }\n",
              "\n",
              "    .dataframe tbody tr th {\n",
              "        vertical-align: top;\n",
              "    }\n",
              "\n",
              "    .dataframe thead th {\n",
              "        text-align: right;\n",
              "    }\n",
              "</style>\n",
              "<table border=\"1\" class=\"dataframe\">\n",
              "  <thead>\n",
              "    <tr style=\"text-align: right;\">\n",
              "      <th></th>\n",
              "      <th>Age</th>\n",
              "      <th>RestingBP</th>\n",
              "      <th>Cholesterol</th>\n",
              "      <th>FastingBS</th>\n",
              "      <th>MaxHR</th>\n",
              "      <th>Oldpeak</th>\n",
              "      <th>HeartDisease</th>\n",
              "      <th>Sex_M</th>\n",
              "      <th>ChestPainType_ATA</th>\n",
              "      <th>ChestPainType_NAP</th>\n",
              "      <th>ChestPainType_TA</th>\n",
              "      <th>RestingECG_Normal</th>\n",
              "      <th>RestingECG_ST</th>\n",
              "      <th>ExerciseAngina_Y</th>\n",
              "      <th>ST_Slope_Flat</th>\n",
              "      <th>ST_Slope_Up</th>\n",
              "    </tr>\n",
              "  </thead>\n",
              "  <tbody>\n",
              "    <tr>\n",
              "      <th>0</th>\n",
              "      <td>40</td>\n",
              "      <td>140.0</td>\n",
              "      <td>289.0</td>\n",
              "      <td>0</td>\n",
              "      <td>172</td>\n",
              "      <td>NaN</td>\n",
              "      <td>0</td>\n",
              "      <td>True</td>\n",
              "      <td>True</td>\n",
              "      <td>False</td>\n",
              "      <td>False</td>\n",
              "      <td>True</td>\n",
              "      <td>False</td>\n",
              "      <td>False</td>\n",
              "      <td>False</td>\n",
              "      <td>True</td>\n",
              "    </tr>\n",
              "    <tr>\n",
              "      <th>1</th>\n",
              "      <td>49</td>\n",
              "      <td>160.0</td>\n",
              "      <td>180.0</td>\n",
              "      <td>0</td>\n",
              "      <td>156</td>\n",
              "      <td>1.0</td>\n",
              "      <td>1</td>\n",
              "      <td>False</td>\n",
              "      <td>False</td>\n",
              "      <td>True</td>\n",
              "      <td>False</td>\n",
              "      <td>True</td>\n",
              "      <td>False</td>\n",
              "      <td>False</td>\n",
              "      <td>True</td>\n",
              "      <td>False</td>\n",
              "    </tr>\n",
              "    <tr>\n",
              "      <th>2</th>\n",
              "      <td>37</td>\n",
              "      <td>130.0</td>\n",
              "      <td>283.0</td>\n",
              "      <td>0</td>\n",
              "      <td>98</td>\n",
              "      <td>NaN</td>\n",
              "      <td>0</td>\n",
              "      <td>True</td>\n",
              "      <td>True</td>\n",
              "      <td>False</td>\n",
              "      <td>False</td>\n",
              "      <td>False</td>\n",
              "      <td>True</td>\n",
              "      <td>False</td>\n",
              "      <td>False</td>\n",
              "      <td>True</td>\n",
              "    </tr>\n",
              "    <tr>\n",
              "      <th>3</th>\n",
              "      <td>48</td>\n",
              "      <td>138.0</td>\n",
              "      <td>214.0</td>\n",
              "      <td>0</td>\n",
              "      <td>108</td>\n",
              "      <td>1.5</td>\n",
              "      <td>1</td>\n",
              "      <td>False</td>\n",
              "      <td>False</td>\n",
              "      <td>False</td>\n",
              "      <td>False</td>\n",
              "      <td>True</td>\n",
              "      <td>False</td>\n",
              "      <td>True</td>\n",
              "      <td>True</td>\n",
              "      <td>False</td>\n",
              "    </tr>\n",
              "    <tr>\n",
              "      <th>4</th>\n",
              "      <td>54</td>\n",
              "      <td>150.0</td>\n",
              "      <td>195.0</td>\n",
              "      <td>0</td>\n",
              "      <td>122</td>\n",
              "      <td>NaN</td>\n",
              "      <td>0</td>\n",
              "      <td>True</td>\n",
              "      <td>False</td>\n",
              "      <td>True</td>\n",
              "      <td>False</td>\n",
              "      <td>True</td>\n",
              "      <td>False</td>\n",
              "      <td>False</td>\n",
              "      <td>False</td>\n",
              "      <td>True</td>\n",
              "    </tr>\n",
              "  </tbody>\n",
              "</table>\n",
              "</div>"
            ],
            "text/plain": [
              "   Age  RestingBP  Cholesterol  FastingBS  MaxHR  Oldpeak  HeartDisease  \\\n",
              "0   40      140.0        289.0          0    172      NaN             0   \n",
              "1   49      160.0        180.0          0    156      1.0             1   \n",
              "2   37      130.0        283.0          0     98      NaN             0   \n",
              "3   48      138.0        214.0          0    108      1.5             1   \n",
              "4   54      150.0        195.0          0    122      NaN             0   \n",
              "\n",
              "   Sex_M  ChestPainType_ATA  ChestPainType_NAP  ChestPainType_TA  \\\n",
              "0   True               True              False             False   \n",
              "1  False              False               True             False   \n",
              "2   True               True              False             False   \n",
              "3  False              False              False             False   \n",
              "4   True              False               True             False   \n",
              "\n",
              "   RestingECG_Normal  RestingECG_ST  ExerciseAngina_Y  ST_Slope_Flat  \\\n",
              "0               True          False             False          False   \n",
              "1               True          False             False           True   \n",
              "2              False           True             False          False   \n",
              "3               True          False              True           True   \n",
              "4               True          False             False          False   \n",
              "\n",
              "   ST_Slope_Up  \n",
              "0         True  \n",
              "1        False  \n",
              "2         True  \n",
              "3        False  \n",
              "4         True  "
            ]
          },
          "execution_count": 37,
          "metadata": {},
          "output_type": "execute_result"
        }
      ],
      "source": [
        "# Decodificando df_nulos\n",
        "df_encoded_nulos = pd.get_dummies(df_nulos,\n",
        "                            columns=['Sex', 'ChestPainType', 'RestingECG', 'ExerciseAngina', 'ST_Slope'],\n",
        "                            drop_first=True) # Drop first to avoid multicollinearity\n",
        "\n",
        "df_encoded_nulos.head()"
      ]
    },
    {
      "cell_type": "code",
      "execution_count": null,
      "id": "71ea8d93-cd5c-4bd4-97ed-fd31a0dc7ec1",
      "metadata": {
        "id": "71ea8d93-cd5c-4bd4-97ed-fd31a0dc7ec1"
      },
      "outputs": [],
      "source": [
        "# Predicciones con df_imp_knn codificado\n",
        "predictores_nulos= ['Age', 'RestingBP', 'Cholesterol', 'FastingBS', 'MaxHR', 'Oldpeak', 'Sex_M', 'ChestPainType_ATA', 'ChestPainType_NAP',\n",
        "       'ChestPainType_TA', 'RestingECG_Normal', 'RestingECG_ST',\n",
        "       'ExerciseAngina_Y', 'ST_Slope_Flat', 'ST_Slope_Up']\n",
        "objetivo_nulos= 'HeartDisease'\n",
        "y_nulos= df_encoded_nulos[objetivo_nulos].values\n",
        "X_nulos= df_encoded_nulos[predictores_nulos].values"
      ]
    },
    {
      "cell_type": "code",
      "execution_count": null,
      "id": "1fada7ff-c2fc-4609-b8d2-01f4e77db5cc",
      "metadata": {
        "id": "1fada7ff-c2fc-4609-b8d2-01f4e77db5cc",
        "outputId": "afe3cc76-d5ff-45f8-f435-c175f5ccb056"
      },
      "outputs": [
        {
          "name": "stdout",
          "output_type": "stream",
          "text": [
            "(734, 15)\n",
            "(184, 15)\n",
            "(734,)\n",
            "(184,)\n"
          ]
        }
      ],
      "source": [
        "# Crear conjuntos de entrenamiento y prueba\n",
        "X_train_nulos, X_test_nulos, y_train_nulos, y_test_nulos = train_test_split(X_nulos, y_nulos, test_size=0.2, random_state=42)\n",
        "print(X_train_nulos.shape)\n",
        "print(X_test_nulos.shape)\n",
        "print(y_train_nulos.shape)\n",
        "print(y_test_nulos.shape)"
      ]
    },
    {
      "cell_type": "code",
      "execution_count": null,
      "id": "32e9e009-62fb-4cd2-b72e-bc18c04ea0bf",
      "metadata": {
        "id": "32e9e009-62fb-4cd2-b72e-bc18c04ea0bf",
        "outputId": "bfc1dfd3-cacd-4a58-c897-18de090992be"
      },
      "outputs": [
        {
          "data": {
            "text/plain": [
              "0.8695652173913043"
            ]
          },
          "execution_count": 40,
          "metadata": {},
          "output_type": "execute_result"
        }
      ],
      "source": [
        "# Para el método de conservación de los datos nulos, se crea el modelo con HistGradientBoostingClassifier\n",
        "\n",
        "from sklearn.ensemble import (HistGradientBoostingClassifier)\n",
        "\n",
        "hgbm = HistGradientBoostingClassifier(random_state=42)\n",
        "hgbm.fit(X_train_nulos, y_train_nulos)\n",
        "Score_nulos= hgbm.score(X_test_nulos, y_test_nulos)\n",
        "Score_nulos"
      ]
    },
    {
      "cell_type": "code",
      "execution_count": null,
      "id": "35b3b7d9-808b-4a9d-8800-f3a1ce862c29",
      "metadata": {
        "id": "35b3b7d9-808b-4a9d-8800-f3a1ce862c29",
        "outputId": "c2043155-8473-4155-9c3d-4e22a23649e7"
      },
      "outputs": [
        {
          "data": {
            "text/html": [
              "<div>\n",
              "<style scoped>\n",
              "    .dataframe tbody tr th:only-of-type {\n",
              "        vertical-align: middle;\n",
              "    }\n",
              "\n",
              "    .dataframe tbody tr th {\n",
              "        vertical-align: top;\n",
              "    }\n",
              "\n",
              "    .dataframe thead th {\n",
              "        text-align: right;\n",
              "    }\n",
              "</style>\n",
              "<table border=\"1\" class=\"dataframe\">\n",
              "  <thead>\n",
              "    <tr style=\"text-align: right;\">\n",
              "      <th></th>\n",
              "      <th>Method</th>\n",
              "      <th>Score</th>\n",
              "    </tr>\n",
              "  </thead>\n",
              "  <tbody>\n",
              "    <tr>\n",
              "      <th>0</th>\n",
              "      <td>Drop</td>\n",
              "      <td>0.849</td>\n",
              "    </tr>\n",
              "    <tr>\n",
              "      <th>1</th>\n",
              "      <td>Mean</td>\n",
              "      <td>0.872</td>\n",
              "    </tr>\n",
              "    <tr>\n",
              "      <th>2</th>\n",
              "      <td>KNN</td>\n",
              "      <td>0.864</td>\n",
              "    </tr>\n",
              "    <tr>\n",
              "      <th>3</th>\n",
              "      <td>Nulos</td>\n",
              "      <td>0.870</td>\n",
              "    </tr>\n",
              "  </tbody>\n",
              "</table>\n",
              "</div>"
            ],
            "text/plain": [
              "  Method  Score\n",
              "0   Drop  0.849\n",
              "1   Mean  0.872\n",
              "2    KNN  0.864\n",
              "3  Nulos  0.870"
            ]
          },
          "execution_count": 41,
          "metadata": {},
          "output_type": "execute_result"
        }
      ],
      "source": [
        "# prompt: tabla con Score_drop, Score_med, Score_knn\n",
        "\n",
        "import pandas as pd\n",
        "data = {'Method': ['Drop', 'Mean', 'KNN', 'Nulos'],\n",
        "        'Score': [Score_drop, Score_med, Score_knn, Score_nulos]}\n",
        "score_table = pd.DataFrame(data).round(3)\n",
        "score_table\n"
      ]
    },
    {
      "cell_type": "markdown",
      "id": "1b1b179e-5c01-4c8a-a9ef-44bf32d8aaa8",
      "metadata": {
        "id": "1b1b179e-5c01-4c8a-a9ef-44bf32d8aaa8"
      },
      "source": [
        "## Comparación de métodos de imputación: media, KNN, y eliminación de datos nulos\n",
        "\n",
        "El menor Score es para el método Drop:eliminación de filas con ceros en las columnas 'Cholesterol', 'RestingBP' y 'Oldpeak'. Esto debido a que las filas con datos nulos representan el 46.73% de las filas es un procentaje representativo, y al eliminarlas se pierde información valiosa para el entrenamiento del modelo, se reduce muho los datos\n",
        "\n",
        "El mayor Score es para el método de reemplazo con la media, score de 0.872, prácticamente igual que el método de nulos que tiene un score de 0.87\n",
        "\n",
        "El método de KNN tiene un score de 0.864, más cercano al de la media y nulos, comparado con el de drop (eliminación)\n",
        "\n",
        "**Se selecciona el método de la media para reemplazar los datos faltantes en el dataset**"
      ]
    },
    {
      "cell_type": "markdown",
      "id": "ed91b142-2e6c-4b6a-a866-41cf7e3bac48",
      "metadata": {
        "id": "ed91b142-2e6c-4b6a-a866-41cf7e3bac48"
      },
      "source": [
        "## Imputación con MICE\n",
        "\n",
        "MICE: Multiple Imputations by Chained Equations (Imputaciones múltiples mediante ecuaciones encadenadas)\n",
        "\n",
        "Se crea un módelo para predecir los valores faltantes. Se reemplaza los valores faltantes con la media, para el entrenamiento, y se deja como faltante sólo una de las columnas corresppondiente a los valores que se desea predecir. Se hace esto para cada columna con faltantes, hasta  obtener todo los valores faltantes predichos por el modelo"
      ]
    },
    {
      "cell_type": "code",
      "execution_count": null,
      "id": "d66d666f-5716-4cbf-bf2d-e0bb96346761",
      "metadata": {
        "id": "d66d666f-5716-4cbf-bf2d-e0bb96346761",
        "outputId": "82c5cab4-a804-4730-a1e3-e1874b78d8d1"
      },
      "outputs": [
        {
          "data": {
            "text/html": [
              "<div>\n",
              "<style scoped>\n",
              "    .dataframe tbody tr th:only-of-type {\n",
              "        vertical-align: middle;\n",
              "    }\n",
              "\n",
              "    .dataframe tbody tr th {\n",
              "        vertical-align: top;\n",
              "    }\n",
              "\n",
              "    .dataframe thead th {\n",
              "        text-align: right;\n",
              "    }\n",
              "</style>\n",
              "<table border=\"1\" class=\"dataframe\">\n",
              "  <thead>\n",
              "    <tr style=\"text-align: right;\">\n",
              "      <th></th>\n",
              "      <th>Age</th>\n",
              "      <th>Sex</th>\n",
              "      <th>ChestPainType</th>\n",
              "      <th>RestingBP</th>\n",
              "      <th>Cholesterol</th>\n",
              "      <th>FastingBS</th>\n",
              "      <th>RestingECG</th>\n",
              "      <th>MaxHR</th>\n",
              "      <th>ExerciseAngina</th>\n",
              "      <th>Oldpeak</th>\n",
              "      <th>ST_Slope</th>\n",
              "      <th>HeartDisease</th>\n",
              "    </tr>\n",
              "  </thead>\n",
              "  <tbody>\n",
              "    <tr>\n",
              "      <th>0</th>\n",
              "      <td>40</td>\n",
              "      <td>M</td>\n",
              "      <td>ATA</td>\n",
              "      <td>140</td>\n",
              "      <td>289</td>\n",
              "      <td>0</td>\n",
              "      <td>Normal</td>\n",
              "      <td>172</td>\n",
              "      <td>N</td>\n",
              "      <td>0.0</td>\n",
              "      <td>Up</td>\n",
              "      <td>0</td>\n",
              "    </tr>\n",
              "    <tr>\n",
              "      <th>1</th>\n",
              "      <td>49</td>\n",
              "      <td>F</td>\n",
              "      <td>NAP</td>\n",
              "      <td>160</td>\n",
              "      <td>180</td>\n",
              "      <td>0</td>\n",
              "      <td>Normal</td>\n",
              "      <td>156</td>\n",
              "      <td>N</td>\n",
              "      <td>1.0</td>\n",
              "      <td>Flat</td>\n",
              "      <td>1</td>\n",
              "    </tr>\n",
              "    <tr>\n",
              "      <th>2</th>\n",
              "      <td>37</td>\n",
              "      <td>M</td>\n",
              "      <td>ATA</td>\n",
              "      <td>130</td>\n",
              "      <td>283</td>\n",
              "      <td>0</td>\n",
              "      <td>ST</td>\n",
              "      <td>98</td>\n",
              "      <td>N</td>\n",
              "      <td>0.0</td>\n",
              "      <td>Up</td>\n",
              "      <td>0</td>\n",
              "    </tr>\n",
              "    <tr>\n",
              "      <th>3</th>\n",
              "      <td>48</td>\n",
              "      <td>F</td>\n",
              "      <td>ASY</td>\n",
              "      <td>138</td>\n",
              "      <td>214</td>\n",
              "      <td>0</td>\n",
              "      <td>Normal</td>\n",
              "      <td>108</td>\n",
              "      <td>Y</td>\n",
              "      <td>1.5</td>\n",
              "      <td>Flat</td>\n",
              "      <td>1</td>\n",
              "    </tr>\n",
              "    <tr>\n",
              "      <th>4</th>\n",
              "      <td>54</td>\n",
              "      <td>M</td>\n",
              "      <td>NAP</td>\n",
              "      <td>150</td>\n",
              "      <td>195</td>\n",
              "      <td>0</td>\n",
              "      <td>Normal</td>\n",
              "      <td>122</td>\n",
              "      <td>N</td>\n",
              "      <td>0.0</td>\n",
              "      <td>Up</td>\n",
              "      <td>0</td>\n",
              "    </tr>\n",
              "  </tbody>\n",
              "</table>\n",
              "</div>"
            ],
            "text/plain": [
              "   Age Sex ChestPainType  RestingBP  Cholesterol  FastingBS RestingECG  MaxHR  \\\n",
              "0   40   M           ATA        140          289          0     Normal    172   \n",
              "1   49   F           NAP        160          180          0     Normal    156   \n",
              "2   37   M           ATA        130          283          0         ST     98   \n",
              "3   48   F           ASY        138          214          0     Normal    108   \n",
              "4   54   M           NAP        150          195          0     Normal    122   \n",
              "\n",
              "  ExerciseAngina  Oldpeak ST_Slope  HeartDisease  \n",
              "0              N      0.0       Up             0  \n",
              "1              N      1.0     Flat             1  \n",
              "2              N      0.0       Up             0  \n",
              "3              Y      1.5     Flat             1  \n",
              "4              N      0.0       Up             0  "
            ]
          },
          "execution_count": 42,
          "metadata": {},
          "output_type": "execute_result"
        }
      ],
      "source": [
        "df.head()"
      ]
    },
    {
      "cell_type": "code",
      "execution_count": null,
      "id": "221bba41-41c6-4a04-95d9-ec28aa3a5736",
      "metadata": {
        "id": "221bba41-41c6-4a04-95d9-ec28aa3a5736",
        "outputId": "4c0e4d67-9947-4975-9bbe-9591553b425a"
      },
      "outputs": [
        {
          "data": {
            "text/html": [
              "<div>\n",
              "<style scoped>\n",
              "    .dataframe tbody tr th:only-of-type {\n",
              "        vertical-align: middle;\n",
              "    }\n",
              "\n",
              "    .dataframe tbody tr th {\n",
              "        vertical-align: top;\n",
              "    }\n",
              "\n",
              "    .dataframe thead th {\n",
              "        text-align: right;\n",
              "    }\n",
              "</style>\n",
              "<table border=\"1\" class=\"dataframe\">\n",
              "  <thead>\n",
              "    <tr style=\"text-align: right;\">\n",
              "      <th></th>\n",
              "      <th>Age</th>\n",
              "      <th>Sex</th>\n",
              "      <th>ChestPainType</th>\n",
              "      <th>RestingBP</th>\n",
              "      <th>Cholesterol</th>\n",
              "      <th>FastingBS</th>\n",
              "      <th>RestingECG</th>\n",
              "      <th>MaxHR</th>\n",
              "      <th>ExerciseAngina</th>\n",
              "      <th>Oldpeak</th>\n",
              "      <th>ST_Slope</th>\n",
              "      <th>HeartDisease</th>\n",
              "    </tr>\n",
              "  </thead>\n",
              "  <tbody>\n",
              "    <tr>\n",
              "      <th>0</th>\n",
              "      <td>40</td>\n",
              "      <td>M</td>\n",
              "      <td>ATA</td>\n",
              "      <td>140.0</td>\n",
              "      <td>289.0</td>\n",
              "      <td>0</td>\n",
              "      <td>Normal</td>\n",
              "      <td>172</td>\n",
              "      <td>N</td>\n",
              "      <td>NaN</td>\n",
              "      <td>Up</td>\n",
              "      <td>0</td>\n",
              "    </tr>\n",
              "    <tr>\n",
              "      <th>1</th>\n",
              "      <td>49</td>\n",
              "      <td>F</td>\n",
              "      <td>NAP</td>\n",
              "      <td>160.0</td>\n",
              "      <td>180.0</td>\n",
              "      <td>0</td>\n",
              "      <td>Normal</td>\n",
              "      <td>156</td>\n",
              "      <td>N</td>\n",
              "      <td>1.0</td>\n",
              "      <td>Flat</td>\n",
              "      <td>1</td>\n",
              "    </tr>\n",
              "    <tr>\n",
              "      <th>2</th>\n",
              "      <td>37</td>\n",
              "      <td>M</td>\n",
              "      <td>ATA</td>\n",
              "      <td>130.0</td>\n",
              "      <td>283.0</td>\n",
              "      <td>0</td>\n",
              "      <td>ST</td>\n",
              "      <td>98</td>\n",
              "      <td>N</td>\n",
              "      <td>NaN</td>\n",
              "      <td>Up</td>\n",
              "      <td>0</td>\n",
              "    </tr>\n",
              "    <tr>\n",
              "      <th>3</th>\n",
              "      <td>48</td>\n",
              "      <td>F</td>\n",
              "      <td>ASY</td>\n",
              "      <td>138.0</td>\n",
              "      <td>214.0</td>\n",
              "      <td>0</td>\n",
              "      <td>Normal</td>\n",
              "      <td>108</td>\n",
              "      <td>Y</td>\n",
              "      <td>1.5</td>\n",
              "      <td>Flat</td>\n",
              "      <td>1</td>\n",
              "    </tr>\n",
              "    <tr>\n",
              "      <th>4</th>\n",
              "      <td>54</td>\n",
              "      <td>M</td>\n",
              "      <td>NAP</td>\n",
              "      <td>150.0</td>\n",
              "      <td>195.0</td>\n",
              "      <td>0</td>\n",
              "      <td>Normal</td>\n",
              "      <td>122</td>\n",
              "      <td>N</td>\n",
              "      <td>NaN</td>\n",
              "      <td>Up</td>\n",
              "      <td>0</td>\n",
              "    </tr>\n",
              "  </tbody>\n",
              "</table>\n",
              "</div>"
            ],
            "text/plain": [
              "   Age Sex ChestPainType  RestingBP  Cholesterol  FastingBS RestingECG  MaxHR  \\\n",
              "0   40   M           ATA      140.0        289.0          0     Normal    172   \n",
              "1   49   F           NAP      160.0        180.0          0     Normal    156   \n",
              "2   37   M           ATA      130.0        283.0          0         ST     98   \n",
              "3   48   F           ASY      138.0        214.0          0     Normal    108   \n",
              "4   54   M           NAP      150.0        195.0          0     Normal    122   \n",
              "\n",
              "  ExerciseAngina  Oldpeak ST_Slope  HeartDisease  \n",
              "0              N      NaN       Up             0  \n",
              "1              N      1.0     Flat             1  \n",
              "2              N      NaN       Up             0  \n",
              "3              Y      1.5     Flat             1  \n",
              "4              N      NaN       Up             0  "
            ]
          },
          "execution_count": 43,
          "metadata": {},
          "output_type": "execute_result"
        }
      ],
      "source": [
        "# Reemplazar ceros por NaN en las columnas 'Cholesterol', 'RestingBP' y 'Oldpeak'\n",
        "df_nan=df.copy()\n",
        "for col in ['Cholesterol', 'RestingBP', 'Oldpeak']:\n",
        "    df_nan[col] = df_nan[col].replace(0, np.nan)\n",
        "\n",
        "df_nan.head()"
      ]
    },
    {
      "cell_type": "code",
      "execution_count": null,
      "id": "471544d0-929d-406d-b8df-c6a187e9a5a2",
      "metadata": {
        "id": "471544d0-929d-406d-b8df-c6a187e9a5a2"
      },
      "outputs": [],
      "source": [
        "# Define imputer\n",
        "\n",
        "from sklearn.experimental import enable_iterative_imputer\n",
        "from sklearn.impute import IterativeImputer\n",
        "imputer = IterativeImputer(random_state=100, max_iter=10)"
      ]
    },
    {
      "cell_type": "code",
      "execution_count": null,
      "id": "ec7f1587-3323-4d29-b3cb-37264b51be69",
      "metadata": {
        "id": "ec7f1587-3323-4d29-b3cb-37264b51be69",
        "outputId": "2bf6661b-9ae8-440a-c00d-5b6b7930f31d"
      },
      "outputs": [
        {
          "data": {
            "text/html": [
              "<div>\n",
              "<style scoped>\n",
              "    .dataframe tbody tr th:only-of-type {\n",
              "        vertical-align: middle;\n",
              "    }\n",
              "\n",
              "    .dataframe tbody tr th {\n",
              "        vertical-align: top;\n",
              "    }\n",
              "\n",
              "    .dataframe thead th {\n",
              "        text-align: right;\n",
              "    }\n",
              "</style>\n",
              "<table border=\"1\" class=\"dataframe\">\n",
              "  <thead>\n",
              "    <tr style=\"text-align: right;\">\n",
              "      <th></th>\n",
              "      <th>Cholesterol</th>\n",
              "      <th>RestingBP</th>\n",
              "      <th>Oldpeak</th>\n",
              "      <th>HeartDisease</th>\n",
              "    </tr>\n",
              "  </thead>\n",
              "  <tbody>\n",
              "    <tr>\n",
              "      <th>0</th>\n",
              "      <td>289.0</td>\n",
              "      <td>140.0</td>\n",
              "      <td>NaN</td>\n",
              "      <td>0</td>\n",
              "    </tr>\n",
              "    <tr>\n",
              "      <th>1</th>\n",
              "      <td>180.0</td>\n",
              "      <td>160.0</td>\n",
              "      <td>1.0</td>\n",
              "      <td>1</td>\n",
              "    </tr>\n",
              "    <tr>\n",
              "      <th>2</th>\n",
              "      <td>283.0</td>\n",
              "      <td>130.0</td>\n",
              "      <td>NaN</td>\n",
              "      <td>0</td>\n",
              "    </tr>\n",
              "    <tr>\n",
              "      <th>3</th>\n",
              "      <td>214.0</td>\n",
              "      <td>138.0</td>\n",
              "      <td>1.5</td>\n",
              "      <td>1</td>\n",
              "    </tr>\n",
              "    <tr>\n",
              "      <th>4</th>\n",
              "      <td>195.0</td>\n",
              "      <td>150.0</td>\n",
              "      <td>NaN</td>\n",
              "      <td>0</td>\n",
              "    </tr>\n",
              "  </tbody>\n",
              "</table>\n",
              "</div>"
            ],
            "text/plain": [
              "   Cholesterol  RestingBP  Oldpeak  HeartDisease\n",
              "0        289.0      140.0      NaN             0\n",
              "1        180.0      160.0      1.0             1\n",
              "2        283.0      130.0      NaN             0\n",
              "3        214.0      138.0      1.5             1\n",
              "4        195.0      150.0      NaN             0"
            ]
          },
          "execution_count": 45,
          "metadata": {},
          "output_type": "execute_result"
        }
      ],
      "source": [
        "# Definir el conjunto de entrenamiento con las variables (númericas) que tienen datos nulos\n",
        "df_train_imp = df_nan.loc[:,  ['Cholesterol', 'RestingBP', 'Oldpeak', 'HeartDisease']]\n",
        "df_train_imp.head()"
      ]
    },
    {
      "cell_type": "code",
      "execution_count": null,
      "id": "36a8b08f-0547-4495-86c1-f252b4b1deca",
      "metadata": {
        "id": "36a8b08f-0547-4495-86c1-f252b4b1deca",
        "outputId": "4a7e80fa-ebb8-47b3-f44e-72fc0dc5d651"
      },
      "outputs": [
        {
          "data": {
            "text/html": [
              "<style>#sk-container-id-4 {color: black;background-color: white;}#sk-container-id-4 pre{padding: 0;}#sk-container-id-4 div.sk-toggleable {background-color: white;}#sk-container-id-4 label.sk-toggleable__label {cursor: pointer;display: block;width: 100%;margin-bottom: 0;padding: 0.3em;box-sizing: border-box;text-align: center;}#sk-container-id-4 label.sk-toggleable__label-arrow:before {content: \"▸\";float: left;margin-right: 0.25em;color: #696969;}#sk-container-id-4 label.sk-toggleable__label-arrow:hover:before {color: black;}#sk-container-id-4 div.sk-estimator:hover label.sk-toggleable__label-arrow:before {color: black;}#sk-container-id-4 div.sk-toggleable__content {max-height: 0;max-width: 0;overflow: hidden;text-align: left;background-color: #f0f8ff;}#sk-container-id-4 div.sk-toggleable__content pre {margin: 0.2em;color: black;border-radius: 0.25em;background-color: #f0f8ff;}#sk-container-id-4 input.sk-toggleable__control:checked~div.sk-toggleable__content {max-height: 200px;max-width: 100%;overflow: auto;}#sk-container-id-4 input.sk-toggleable__control:checked~label.sk-toggleable__label-arrow:before {content: \"▾\";}#sk-container-id-4 div.sk-estimator input.sk-toggleable__control:checked~label.sk-toggleable__label {background-color: #d4ebff;}#sk-container-id-4 div.sk-label input.sk-toggleable__control:checked~label.sk-toggleable__label {background-color: #d4ebff;}#sk-container-id-4 input.sk-hidden--visually {border: 0;clip: rect(1px 1px 1px 1px);clip: rect(1px, 1px, 1px, 1px);height: 1px;margin: -1px;overflow: hidden;padding: 0;position: absolute;width: 1px;}#sk-container-id-4 div.sk-estimator {font-family: monospace;background-color: #f0f8ff;border: 1px dotted black;border-radius: 0.25em;box-sizing: border-box;margin-bottom: 0.5em;}#sk-container-id-4 div.sk-estimator:hover {background-color: #d4ebff;}#sk-container-id-4 div.sk-parallel-item::after {content: \"\";width: 100%;border-bottom: 1px solid gray;flex-grow: 1;}#sk-container-id-4 div.sk-label:hover label.sk-toggleable__label {background-color: #d4ebff;}#sk-container-id-4 div.sk-serial::before {content: \"\";position: absolute;border-left: 1px solid gray;box-sizing: border-box;top: 0;bottom: 0;left: 50%;z-index: 0;}#sk-container-id-4 div.sk-serial {display: flex;flex-direction: column;align-items: center;background-color: white;padding-right: 0.2em;padding-left: 0.2em;position: relative;}#sk-container-id-4 div.sk-item {position: relative;z-index: 1;}#sk-container-id-4 div.sk-parallel {display: flex;align-items: stretch;justify-content: center;background-color: white;position: relative;}#sk-container-id-4 div.sk-item::before, #sk-container-id-4 div.sk-parallel-item::before {content: \"\";position: absolute;border-left: 1px solid gray;box-sizing: border-box;top: 0;bottom: 0;left: 50%;z-index: -1;}#sk-container-id-4 div.sk-parallel-item {display: flex;flex-direction: column;z-index: 1;position: relative;background-color: white;}#sk-container-id-4 div.sk-parallel-item:first-child::after {align-self: flex-end;width: 50%;}#sk-container-id-4 div.sk-parallel-item:last-child::after {align-self: flex-start;width: 50%;}#sk-container-id-4 div.sk-parallel-item:only-child::after {width: 0;}#sk-container-id-4 div.sk-dashed-wrapped {border: 1px dashed gray;margin: 0 0.4em 0.5em 0.4em;box-sizing: border-box;padding-bottom: 0.4em;background-color: white;}#sk-container-id-4 div.sk-label label {font-family: monospace;font-weight: bold;display: inline-block;line-height: 1.2em;}#sk-container-id-4 div.sk-label-container {text-align: center;}#sk-container-id-4 div.sk-container {/* jupyter's `normalize.less` sets `[hidden] { display: none; }` but bootstrap.min.css set `[hidden] { display: none !important; }` so we also need the `!important` here to be able to override the default hidden behavior on the sphinx rendered scikit-learn.org. See: https://github.com/scikit-learn/scikit-learn/issues/21755 */display: inline-block !important;position: relative;}#sk-container-id-4 div.sk-text-repr-fallback {display: none;}</style><div id=\"sk-container-id-4\" class=\"sk-top-container\"><div class=\"sk-text-repr-fallback\"><pre>IterativeImputer(random_state=100)</pre><b>In a Jupyter environment, please rerun this cell to show the HTML representation or trust the notebook. <br />On GitHub, the HTML representation is unable to render, please try loading this page with nbviewer.org.</b></div><div class=\"sk-container\" hidden><div class=\"sk-item\"><div class=\"sk-estimator sk-toggleable\"><input class=\"sk-toggleable__control sk-hidden--visually\" id=\"sk-estimator-id-4\" type=\"checkbox\" checked><label for=\"sk-estimator-id-4\" class=\"sk-toggleable__label sk-toggleable__label-arrow\">IterativeImputer</label><div class=\"sk-toggleable__content\"><pre>IterativeImputer(random_state=100)</pre></div></div></div></div></div>"
            ],
            "text/plain": [
              "IterativeImputer(random_state=100)"
            ]
          },
          "execution_count": 46,
          "metadata": {},
          "output_type": "execute_result"
        }
      ],
      "source": [
        "# fit on the dataset\n",
        "imputer.fit(df_train_imp)"
      ]
    },
    {
      "cell_type": "code",
      "execution_count": null,
      "id": "a1c4f95a-e3a0-4412-9cb5-5ab3c22f95bd",
      "metadata": {
        "id": "a1c4f95a-e3a0-4412-9cb5-5ab3c22f95bd",
        "outputId": "6d2eed96-fdd2-4408-dd61-f5bf9056b2c5"
      },
      "outputs": [
        {
          "data": {
            "text/plain": [
              "array([[289.        , 140.        ,   1.11298094,   0.        ],\n",
              "       [180.        , 160.        ,   1.        ,   1.        ],\n",
              "       [283.        , 130.        ,   1.0151058 ,   0.        ],\n",
              "       [214.        , 138.        ,   1.5       ,   1.        ],\n",
              "       [195.        , 150.        ,   1.22103588,   0.        ],\n",
              "       [339.        , 120.        ,   0.91091918,   0.        ],\n",
              "       [237.        , 130.        ,   1.0197885 ,   0.        ],\n",
              "       [208.        , 110.        ,   0.82576877,   0.        ],\n",
              "       [207.        , 140.        ,   1.5       ,   1.        ],\n",
              "       [284.        , 120.        ,   0.91651807,   0.        ]])"
            ]
          },
          "execution_count": 47,
          "metadata": {},
          "output_type": "execute_result"
        }
      ],
      "source": [
        "df_imputed = imputer.transform(df_train_imp)\n",
        "df_imputed[:10]"
      ]
    },
    {
      "cell_type": "markdown",
      "id": "e53b0c45-3822-47cf-b417-65cbe7babede",
      "metadata": {
        "id": "e53b0c45-3822-47cf-b417-65cbe7babede"
      },
      "source": [
        "Para la variable Oldpeak, en las filas 0, 2 y 4, los valores que arroja imputer son: 1.11, 1.01, y 1.22"
      ]
    },
    {
      "cell_type": "code",
      "execution_count": null,
      "id": "fff59e06-8d89-4653-8e0a-7d7a5e231fde",
      "metadata": {
        "id": "fff59e06-8d89-4653-8e0a-7d7a5e231fde",
        "outputId": "79ad20e7-e401-47e8-853a-1962e1a8828b"
      },
      "outputs": [
        {
          "data": {
            "text/html": [
              "<div>\n",
              "<style scoped>\n",
              "    .dataframe tbody tr th:only-of-type {\n",
              "        vertical-align: middle;\n",
              "    }\n",
              "\n",
              "    .dataframe tbody tr th {\n",
              "        vertical-align: top;\n",
              "    }\n",
              "\n",
              "    .dataframe thead th {\n",
              "        text-align: right;\n",
              "    }\n",
              "</style>\n",
              "<table border=\"1\" class=\"dataframe\">\n",
              "  <thead>\n",
              "    <tr style=\"text-align: right;\">\n",
              "      <th></th>\n",
              "      <th>Age</th>\n",
              "      <th>Sex</th>\n",
              "      <th>ChestPainType</th>\n",
              "      <th>RestingBP</th>\n",
              "      <th>Cholesterol</th>\n",
              "      <th>FastingBS</th>\n",
              "      <th>RestingECG</th>\n",
              "      <th>MaxHR</th>\n",
              "      <th>ExerciseAngina</th>\n",
              "      <th>Oldpeak</th>\n",
              "      <th>ST_Slope</th>\n",
              "      <th>HeartDisease</th>\n",
              "    </tr>\n",
              "  </thead>\n",
              "  <tbody>\n",
              "    <tr>\n",
              "      <th>0</th>\n",
              "      <td>40</td>\n",
              "      <td>M</td>\n",
              "      <td>ATA</td>\n",
              "      <td>140.0</td>\n",
              "      <td>289.0</td>\n",
              "      <td>0</td>\n",
              "      <td>Normal</td>\n",
              "      <td>172</td>\n",
              "      <td>N</td>\n",
              "      <td>1.112981</td>\n",
              "      <td>Up</td>\n",
              "      <td>0</td>\n",
              "    </tr>\n",
              "    <tr>\n",
              "      <th>1</th>\n",
              "      <td>49</td>\n",
              "      <td>F</td>\n",
              "      <td>NAP</td>\n",
              "      <td>160.0</td>\n",
              "      <td>180.0</td>\n",
              "      <td>0</td>\n",
              "      <td>Normal</td>\n",
              "      <td>156</td>\n",
              "      <td>N</td>\n",
              "      <td>1.000000</td>\n",
              "      <td>Flat</td>\n",
              "      <td>1</td>\n",
              "    </tr>\n",
              "    <tr>\n",
              "      <th>2</th>\n",
              "      <td>37</td>\n",
              "      <td>M</td>\n",
              "      <td>ATA</td>\n",
              "      <td>130.0</td>\n",
              "      <td>283.0</td>\n",
              "      <td>0</td>\n",
              "      <td>ST</td>\n",
              "      <td>98</td>\n",
              "      <td>N</td>\n",
              "      <td>1.015106</td>\n",
              "      <td>Up</td>\n",
              "      <td>0</td>\n",
              "    </tr>\n",
              "    <tr>\n",
              "      <th>3</th>\n",
              "      <td>48</td>\n",
              "      <td>F</td>\n",
              "      <td>ASY</td>\n",
              "      <td>138.0</td>\n",
              "      <td>214.0</td>\n",
              "      <td>0</td>\n",
              "      <td>Normal</td>\n",
              "      <td>108</td>\n",
              "      <td>Y</td>\n",
              "      <td>1.500000</td>\n",
              "      <td>Flat</td>\n",
              "      <td>1</td>\n",
              "    </tr>\n",
              "    <tr>\n",
              "      <th>4</th>\n",
              "      <td>54</td>\n",
              "      <td>M</td>\n",
              "      <td>NAP</td>\n",
              "      <td>150.0</td>\n",
              "      <td>195.0</td>\n",
              "      <td>0</td>\n",
              "      <td>Normal</td>\n",
              "      <td>122</td>\n",
              "      <td>N</td>\n",
              "      <td>1.221036</td>\n",
              "      <td>Up</td>\n",
              "      <td>0</td>\n",
              "    </tr>\n",
              "    <tr>\n",
              "      <th>5</th>\n",
              "      <td>39</td>\n",
              "      <td>M</td>\n",
              "      <td>NAP</td>\n",
              "      <td>120.0</td>\n",
              "      <td>339.0</td>\n",
              "      <td>0</td>\n",
              "      <td>Normal</td>\n",
              "      <td>170</td>\n",
              "      <td>N</td>\n",
              "      <td>0.910919</td>\n",
              "      <td>Up</td>\n",
              "      <td>0</td>\n",
              "    </tr>\n",
              "    <tr>\n",
              "      <th>6</th>\n",
              "      <td>45</td>\n",
              "      <td>F</td>\n",
              "      <td>ATA</td>\n",
              "      <td>130.0</td>\n",
              "      <td>237.0</td>\n",
              "      <td>0</td>\n",
              "      <td>Normal</td>\n",
              "      <td>170</td>\n",
              "      <td>N</td>\n",
              "      <td>1.019789</td>\n",
              "      <td>Up</td>\n",
              "      <td>0</td>\n",
              "    </tr>\n",
              "    <tr>\n",
              "      <th>7</th>\n",
              "      <td>54</td>\n",
              "      <td>M</td>\n",
              "      <td>ATA</td>\n",
              "      <td>110.0</td>\n",
              "      <td>208.0</td>\n",
              "      <td>0</td>\n",
              "      <td>Normal</td>\n",
              "      <td>142</td>\n",
              "      <td>N</td>\n",
              "      <td>0.825769</td>\n",
              "      <td>Up</td>\n",
              "      <td>0</td>\n",
              "    </tr>\n",
              "    <tr>\n",
              "      <th>8</th>\n",
              "      <td>37</td>\n",
              "      <td>M</td>\n",
              "      <td>ASY</td>\n",
              "      <td>140.0</td>\n",
              "      <td>207.0</td>\n",
              "      <td>0</td>\n",
              "      <td>Normal</td>\n",
              "      <td>130</td>\n",
              "      <td>Y</td>\n",
              "      <td>1.500000</td>\n",
              "      <td>Flat</td>\n",
              "      <td>1</td>\n",
              "    </tr>\n",
              "    <tr>\n",
              "      <th>9</th>\n",
              "      <td>48</td>\n",
              "      <td>F</td>\n",
              "      <td>ATA</td>\n",
              "      <td>120.0</td>\n",
              "      <td>284.0</td>\n",
              "      <td>0</td>\n",
              "      <td>Normal</td>\n",
              "      <td>120</td>\n",
              "      <td>N</td>\n",
              "      <td>0.916518</td>\n",
              "      <td>Up</td>\n",
              "      <td>0</td>\n",
              "    </tr>\n",
              "  </tbody>\n",
              "</table>\n",
              "</div>"
            ],
            "text/plain": [
              "   Age Sex ChestPainType  RestingBP  Cholesterol  FastingBS RestingECG  MaxHR  \\\n",
              "0   40   M           ATA      140.0        289.0          0     Normal    172   \n",
              "1   49   F           NAP      160.0        180.0          0     Normal    156   \n",
              "2   37   M           ATA      130.0        283.0          0         ST     98   \n",
              "3   48   F           ASY      138.0        214.0          0     Normal    108   \n",
              "4   54   M           NAP      150.0        195.0          0     Normal    122   \n",
              "5   39   M           NAP      120.0        339.0          0     Normal    170   \n",
              "6   45   F           ATA      130.0        237.0          0     Normal    170   \n",
              "7   54   M           ATA      110.0        208.0          0     Normal    142   \n",
              "8   37   M           ASY      140.0        207.0          0     Normal    130   \n",
              "9   48   F           ATA      120.0        284.0          0     Normal    120   \n",
              "\n",
              "  ExerciseAngina   Oldpeak ST_Slope  HeartDisease  \n",
              "0              N  1.112981       Up             0  \n",
              "1              N  1.000000     Flat             1  \n",
              "2              N  1.015106       Up             0  \n",
              "3              Y  1.500000     Flat             1  \n",
              "4              N  1.221036       Up             0  \n",
              "5              N  0.910919       Up             0  \n",
              "6              N  1.019789       Up             0  \n",
              "7              N  0.825769       Up             0  \n",
              "8              Y  1.500000     Flat             1  \n",
              "9              N  0.916518       Up             0  "
            ]
          },
          "execution_count": 48,
          "metadata": {},
          "output_type": "execute_result"
        }
      ],
      "source": [
        "# Reemplazando con los valores imputados en df_nan\n",
        "df_nan.loc[:, ['Cholesterol', 'RestingBP', 'Oldpeak', 'HeartDisease']] = df_imputed\n",
        "df_nan.head(10)"
      ]
    },
    {
      "cell_type": "code",
      "execution_count": null,
      "id": "60ee654c-bbdc-41b4-8012-89ca0b672f8c",
      "metadata": {
        "id": "60ee654c-bbdc-41b4-8012-89ca0b672f8c",
        "outputId": "0f533297-c055-4d9f-ccf5-26ad33dc49e6"
      },
      "outputs": [
        {
          "name": "stdout",
          "output_type": "stream",
          "text": [
            "Collecting miceforest\n",
            "  Downloading miceforest-6.0.3-py3-none-any.whl.metadata (35 kB)\n",
            "Collecting lightgbm>=4.1.0 (from miceforest)\n",
            "  Downloading lightgbm-4.6.0-py3-none-win_amd64.whl.metadata (17 kB)\n",
            "Requirement already satisfied: pandas>=2.1.0 in c:\\users\\1130613825\\appdata\\local\\anaconda3\\lib\\site-packages (from miceforest) (2.1.4)\n",
            "Requirement already satisfied: numpy in c:\\users\\1130613825\\appdata\\local\\anaconda3\\lib\\site-packages (from miceforest) (1.26.4)\n",
            "Requirement already satisfied: scipy>=1.6.0 in c:\\users\\1130613825\\appdata\\local\\anaconda3\\lib\\site-packages (from miceforest) (1.11.4)\n",
            "Requirement already satisfied: pyarrow>=6.0.1 in c:\\users\\1130613825\\appdata\\local\\anaconda3\\lib\\site-packages (from miceforest) (14.0.2)\n",
            "Requirement already satisfied: python-dateutil>=2.8.2 in c:\\users\\1130613825\\appdata\\local\\anaconda3\\lib\\site-packages (from pandas>=2.1.0->miceforest) (2.8.2)\n",
            "Requirement already satisfied: pytz>=2020.1 in c:\\users\\1130613825\\appdata\\local\\anaconda3\\lib\\site-packages (from pandas>=2.1.0->miceforest) (2023.3.post1)\n",
            "Requirement already satisfied: tzdata>=2022.1 in c:\\users\\1130613825\\appdata\\local\\anaconda3\\lib\\site-packages (from pandas>=2.1.0->miceforest) (2023.3)\n",
            "Requirement already satisfied: six>=1.5 in c:\\users\\1130613825\\appdata\\local\\anaconda3\\lib\\site-packages (from python-dateutil>=2.8.2->pandas>=2.1.0->miceforest) (1.16.0)\n",
            "Downloading miceforest-6.0.3-py3-none-any.whl (40 kB)\n",
            "   ---------------------------------------- 0.0/40.3 kB ? eta -:--:--\n",
            "   ---------- ----------------------------- 10.2/40.3 kB ? eta -:--:--\n",
            "   ---------------------------------------- 40.3/40.3 kB 970.2 kB/s eta 0:00:00\n",
            "Downloading lightgbm-4.6.0-py3-none-win_amd64.whl (1.5 MB)\n",
            "   ---------------------------------------- 0.0/1.5 MB ? eta -:--:--\n",
            "   - -------------------------------------- 0.1/1.5 MB 2.0 MB/s eta 0:00:01\n",
            "   ------ --------------------------------- 0.2/1.5 MB 2.9 MB/s eta 0:00:01\n",
            "   ----------- ---------------------------- 0.4/1.5 MB 3.4 MB/s eta 0:00:01\n",
            "   ---------------- ----------------------- 0.6/1.5 MB 3.3 MB/s eta 0:00:01\n",
            "   --------------------- ------------------ 0.8/1.5 MB 3.6 MB/s eta 0:00:01\n",
            "   --------------------------- ------------ 1.0/1.5 MB 3.7 MB/s eta 0:00:01\n",
            "   ----------------------------------- ---- 1.3/1.5 MB 4.1 MB/s eta 0:00:01\n",
            "   ---------------------------------------- 1.5/1.5 MB 4.4 MB/s eta 0:00:00\n",
            "Installing collected packages: lightgbm, miceforest\n",
            "Successfully installed lightgbm-4.6.0 miceforest-6.0.3\n"
          ]
        }
      ],
      "source": [
        "# Instalando MICE\n",
        "!pip install miceforest --no-cache-dir"
      ]
    },
    {
      "cell_type": "code",
      "execution_count": null,
      "id": "a7afc214-f24e-4b97-91f0-b0ea8b65c913",
      "metadata": {
        "id": "a7afc214-f24e-4b97-91f0-b0ea8b65c913"
      },
      "outputs": [],
      "source": [
        "import miceforest as mf"
      ]
    },
    {
      "cell_type": "code",
      "execution_count": null,
      "id": "490bd329-ee27-4c33-b683-7402ac7369f2",
      "metadata": {
        "id": "490bd329-ee27-4c33-b683-7402ac7369f2"
      },
      "outputs": [],
      "source": [
        "# Crear kernel.\n",
        "kds = mf.ImputationKernel(\n",
        "  df_train_imp,\n",
        "  random_state=100\n",
        ")\n",
        "\n",
        "# Ejecute el algoritmo MICE durante 2 iteraciones\n",
        "kds.mice(2)\n",
        "\n",
        "# Devolver el conjunto de datos completo (con los valores faltantes predichos)\n",
        "df_imputed = kds.complete_data()"
      ]
    },
    {
      "cell_type": "code",
      "execution_count": null,
      "id": "a7a14b34-902f-4426-93dc-489f7b790d7b",
      "metadata": {
        "id": "a7a14b34-902f-4426-93dc-489f7b790d7b",
        "outputId": "855f51b5-cafd-487c-df46-d3335d3774a2"
      },
      "outputs": [
        {
          "data": {
            "text/html": [
              "<div>\n",
              "<style scoped>\n",
              "    .dataframe tbody tr th:only-of-type {\n",
              "        vertical-align: middle;\n",
              "    }\n",
              "\n",
              "    .dataframe tbody tr th {\n",
              "        vertical-align: top;\n",
              "    }\n",
              "\n",
              "    .dataframe thead th {\n",
              "        text-align: right;\n",
              "    }\n",
              "</style>\n",
              "<table border=\"1\" class=\"dataframe\">\n",
              "  <thead>\n",
              "    <tr style=\"text-align: right;\">\n",
              "      <th></th>\n",
              "      <th>Cholesterol</th>\n",
              "      <th>RestingBP</th>\n",
              "      <th>Oldpeak</th>\n",
              "      <th>HeartDisease</th>\n",
              "    </tr>\n",
              "  </thead>\n",
              "  <tbody>\n",
              "    <tr>\n",
              "      <th>0</th>\n",
              "      <td>289.0</td>\n",
              "      <td>140.0</td>\n",
              "      <td>NaN</td>\n",
              "      <td>0</td>\n",
              "    </tr>\n",
              "    <tr>\n",
              "      <th>1</th>\n",
              "      <td>180.0</td>\n",
              "      <td>160.0</td>\n",
              "      <td>1.0</td>\n",
              "      <td>1</td>\n",
              "    </tr>\n",
              "    <tr>\n",
              "      <th>2</th>\n",
              "      <td>283.0</td>\n",
              "      <td>130.0</td>\n",
              "      <td>NaN</td>\n",
              "      <td>0</td>\n",
              "    </tr>\n",
              "    <tr>\n",
              "      <th>3</th>\n",
              "      <td>214.0</td>\n",
              "      <td>138.0</td>\n",
              "      <td>1.5</td>\n",
              "      <td>1</td>\n",
              "    </tr>\n",
              "    <tr>\n",
              "      <th>4</th>\n",
              "      <td>195.0</td>\n",
              "      <td>150.0</td>\n",
              "      <td>NaN</td>\n",
              "      <td>0</td>\n",
              "    </tr>\n",
              "  </tbody>\n",
              "</table>\n",
              "</div>"
            ],
            "text/plain": [
              "   Cholesterol  RestingBP  Oldpeak  HeartDisease\n",
              "0        289.0      140.0      NaN             0\n",
              "1        180.0      160.0      1.0             1\n",
              "2        283.0      130.0      NaN             0\n",
              "3        214.0      138.0      1.5             1\n",
              "4        195.0      150.0      NaN             0"
            ]
          },
          "execution_count": 54,
          "metadata": {},
          "output_type": "execute_result"
        }
      ],
      "source": [
        "# Así están los datos de entrenamiento\n",
        "df_train_imp.head()"
      ]
    },
    {
      "cell_type": "code",
      "execution_count": null,
      "id": "58b53054-c273-40d9-b10d-d76a4b5a1817",
      "metadata": {
        "id": "58b53054-c273-40d9-b10d-d76a4b5a1817",
        "outputId": "56498289-52b3-421a-ed5e-74b8a0cbe15d"
      },
      "outputs": [
        {
          "data": {
            "text/html": [
              "<div>\n",
              "<style scoped>\n",
              "    .dataframe tbody tr th:only-of-type {\n",
              "        vertical-align: middle;\n",
              "    }\n",
              "\n",
              "    .dataframe tbody tr th {\n",
              "        vertical-align: top;\n",
              "    }\n",
              "\n",
              "    .dataframe thead th {\n",
              "        text-align: right;\n",
              "    }\n",
              "</style>\n",
              "<table border=\"1\" class=\"dataframe\">\n",
              "  <thead>\n",
              "    <tr style=\"text-align: right;\">\n",
              "      <th></th>\n",
              "      <th>Cholesterol</th>\n",
              "      <th>RestingBP</th>\n",
              "      <th>Oldpeak</th>\n",
              "      <th>HeartDisease</th>\n",
              "    </tr>\n",
              "  </thead>\n",
              "  <tbody>\n",
              "    <tr>\n",
              "      <th>0</th>\n",
              "      <td>289.0</td>\n",
              "      <td>140.0</td>\n",
              "      <td>1.0</td>\n",
              "      <td>0</td>\n",
              "    </tr>\n",
              "    <tr>\n",
              "      <th>1</th>\n",
              "      <td>180.0</td>\n",
              "      <td>160.0</td>\n",
              "      <td>1.0</td>\n",
              "      <td>1</td>\n",
              "    </tr>\n",
              "    <tr>\n",
              "      <th>2</th>\n",
              "      <td>283.0</td>\n",
              "      <td>130.0</td>\n",
              "      <td>2.0</td>\n",
              "      <td>0</td>\n",
              "    </tr>\n",
              "    <tr>\n",
              "      <th>3</th>\n",
              "      <td>214.0</td>\n",
              "      <td>138.0</td>\n",
              "      <td>1.5</td>\n",
              "      <td>1</td>\n",
              "    </tr>\n",
              "    <tr>\n",
              "      <th>4</th>\n",
              "      <td>195.0</td>\n",
              "      <td>150.0</td>\n",
              "      <td>0.2</td>\n",
              "      <td>0</td>\n",
              "    </tr>\n",
              "  </tbody>\n",
              "</table>\n",
              "</div>"
            ],
            "text/plain": [
              "   Cholesterol  RestingBP  Oldpeak  HeartDisease\n",
              "0        289.0      140.0      1.0             0\n",
              "1        180.0      160.0      1.0             1\n",
              "2        283.0      130.0      2.0             0\n",
              "3        214.0      138.0      1.5             1\n",
              "4        195.0      150.0      0.2             0"
            ]
          },
          "execution_count": 55,
          "metadata": {},
          "output_type": "execute_result"
        }
      ],
      "source": [
        "# Estos son los valores con los datos imputados por MICE - 2 iteraciones (ciclos de imputación)\n",
        "df_imputed.head()"
      ]
    },
    {
      "cell_type": "code",
      "execution_count": null,
      "id": "d61e882b-7952-4044-86b5-b9f19ad426c6",
      "metadata": {
        "id": "d61e882b-7952-4044-86b5-b9f19ad426c6",
        "outputId": "3ea41fe2-17ad-46fe-9da1-ecba22425405"
      },
      "outputs": [
        {
          "data": {
            "text/plain": [
              "Cholesterol     0\n",
              "RestingBP       0\n",
              "Oldpeak         0\n",
              "HeartDisease    0\n",
              "dtype: int64"
            ]
          },
          "execution_count": 56,
          "metadata": {},
          "output_type": "execute_result"
        }
      ],
      "source": [
        "df_imputed.isnull().sum()"
      ]
    },
    {
      "cell_type": "markdown",
      "id": "cb0928e7-bf6d-4d3a-9399-ef675b79da0f",
      "metadata": {
        "id": "cb0928e7-bf6d-4d3a-9399-ef675b79da0f"
      },
      "source": [
        "Para la variable Oldpeak, en las filas 0, 2 y 4, los valores que arroja MICE, con 2 iteraciones son: 1, 2, y 0.2...hay más diferencia entre los valores, que con otros métodos de imputación"
      ]
    },
    {
      "cell_type": "code",
      "execution_count": null,
      "id": "c661d1c1-cdc9-469b-8497-f232db18bbb5",
      "metadata": {
        "id": "c661d1c1-cdc9-469b-8497-f232db18bbb5"
      },
      "outputs": [],
      "source": [
        "# Ahora se aumentan la iteraciones a 50\n",
        "kds.mice(iterations=10, n_estimators=50)"
      ]
    },
    {
      "cell_type": "code",
      "execution_count": null,
      "id": "80c1b954-56c1-43f8-8fc5-d9aaf7541fb6",
      "metadata": {
        "id": "80c1b954-56c1-43f8-8fc5-d9aaf7541fb6",
        "outputId": "b3569bd9-731e-48ea-fd26-97764efc108b"
      },
      "outputs": [
        {
          "data": {
            "text/html": [
              "<div>\n",
              "<style scoped>\n",
              "    .dataframe tbody tr th:only-of-type {\n",
              "        vertical-align: middle;\n",
              "    }\n",
              "\n",
              "    .dataframe tbody tr th {\n",
              "        vertical-align: top;\n",
              "    }\n",
              "\n",
              "    .dataframe thead th {\n",
              "        text-align: right;\n",
              "    }\n",
              "</style>\n",
              "<table border=\"1\" class=\"dataframe\">\n",
              "  <thead>\n",
              "    <tr style=\"text-align: right;\">\n",
              "      <th></th>\n",
              "      <th>Cholesterol</th>\n",
              "      <th>RestingBP</th>\n",
              "      <th>Oldpeak</th>\n",
              "      <th>HeartDisease</th>\n",
              "    </tr>\n",
              "  </thead>\n",
              "  <tbody>\n",
              "    <tr>\n",
              "      <th>0</th>\n",
              "      <td>289.0</td>\n",
              "      <td>140.0</td>\n",
              "      <td>1.0</td>\n",
              "      <td>0</td>\n",
              "    </tr>\n",
              "    <tr>\n",
              "      <th>1</th>\n",
              "      <td>180.0</td>\n",
              "      <td>160.0</td>\n",
              "      <td>1.0</td>\n",
              "      <td>1</td>\n",
              "    </tr>\n",
              "    <tr>\n",
              "      <th>2</th>\n",
              "      <td>283.0</td>\n",
              "      <td>130.0</td>\n",
              "      <td>0.7</td>\n",
              "      <td>0</td>\n",
              "    </tr>\n",
              "    <tr>\n",
              "      <th>3</th>\n",
              "      <td>214.0</td>\n",
              "      <td>138.0</td>\n",
              "      <td>1.5</td>\n",
              "      <td>1</td>\n",
              "    </tr>\n",
              "    <tr>\n",
              "      <th>4</th>\n",
              "      <td>195.0</td>\n",
              "      <td>150.0</td>\n",
              "      <td>1.5</td>\n",
              "      <td>0</td>\n",
              "    </tr>\n",
              "  </tbody>\n",
              "</table>\n",
              "</div>"
            ],
            "text/plain": [
              "   Cholesterol  RestingBP  Oldpeak  HeartDisease\n",
              "0        289.0      140.0      1.0             0\n",
              "1        180.0      160.0      1.0             1\n",
              "2        283.0      130.0      0.7             0\n",
              "3        214.0      138.0      1.5             1\n",
              "4        195.0      150.0      1.5             0"
            ]
          },
          "execution_count": 58,
          "metadata": {},
          "output_type": "execute_result"
        }
      ],
      "source": [
        "# Imputación con 10 iteraciones\n",
        "df_imputed2 = kds.complete_data()\n",
        "df_imputed2.head()"
      ]
    },
    {
      "cell_type": "markdown",
      "id": "6aff3ad9-6488-4243-90c5-282e78d5eb9e",
      "metadata": {
        "id": "6aff3ad9-6488-4243-90c5-282e78d5eb9e"
      },
      "source": [
        "Ahora, para la variable Oldpeak, en las filas 0, 2 y 4, los valores que arroja MICE, con 10 iteraciones son: 0.5,1,2\n",
        "\n",
        "con 2 iteraciones arrojó: 1, 2, 0.2."
      ]
    },
    {
      "cell_type": "code",
      "execution_count": null,
      "id": "8425241e-506b-4260-96fe-b46cee3d57cd",
      "metadata": {
        "id": "8425241e-506b-4260-96fe-b46cee3d57cd",
        "outputId": "b0b9e0ce-be9f-4ba1-ec94-796d2453039f"
      },
      "outputs": [
        {
          "data": {
            "text/plain": [
              "Cholesterol     0\n",
              "RestingBP       0\n",
              "Oldpeak         0\n",
              "HeartDisease    0\n",
              "dtype: int64"
            ]
          },
          "execution_count": 59,
          "metadata": {},
          "output_type": "execute_result"
        }
      ],
      "source": [
        "df_imputed2.isnull().sum()"
      ]
    },
    {
      "cell_type": "markdown",
      "id": "2e4c6b22-6fab-487f-965e-e57781de932b",
      "metadata": {
        "id": "2e4c6b22-6fab-487f-965e-e57781de932b"
      },
      "source": [
        "### Comparación de la distribución de los datos imputados vs datos originales\n",
        "\n",
        "\n",
        "\n",
        "\n",
        "\n",
        "\n",
        "\n",
        "En cada iteración, se actualizan los valores imputados para cada variable faltante utilizando las demás variables como predictoras"
      ]
    },
    {
      "cell_type": "code",
      "execution_count": null,
      "id": "84a5b940-7f8a-47c6-81a6-459de2ae2adc",
      "metadata": {
        "id": "84a5b940-7f8a-47c6-81a6-459de2ae2adc",
        "outputId": "98074b15-2e29-4b54-e01e-e244670d93c2"
      },
      "outputs": [
        {
          "data": {
            "image/png": "[encoded data removed]",
            "text/plain": [
              "<Figure size 1500x500 with 3 Axes>"
            ]
          },
          "metadata": {},
          "output_type": "display_data"
        }
      ],
      "source": [
        "# prompt: realizar un gráfico de dispersion de la variable Cholesterol vs Oldpeak para cada dataframe: df_nan, df_imputed, df_imputed2\n",
        "\n",
        "import matplotlib.pyplot as plt\n",
        "\n",
        "# Create scatter plots for each DataFrame\n",
        "plt.figure(figsize=(15, 5))\n",
        "\n",
        "plt.subplot(1, 3, 1)\n",
        "plt.scatter(df_nan['Cholesterol'], df_nan['Oldpeak'])\n",
        "plt.title('df_nan')\n",
        "plt.xlabel('Cholesterol')\n",
        "plt.ylabel('Oldpeak')\n",
        "\n",
        "plt.subplot(1, 3, 2)\n",
        "plt.scatter(df_imputed['Cholesterol'], df_imputed['Oldpeak'])\n",
        "plt.title('df_imputed')\n",
        "plt.xlabel('Cholesterol')\n",
        "plt.ylabel('Oldpeak')\n",
        "\n",
        "plt.subplot(1, 3, 3)\n",
        "plt.scatter(df_imputed2['Cholesterol'], df_imputed2['Oldpeak'])\n",
        "plt.title('df_imputed2')\n",
        "plt.xlabel('Cholesterol')\n",
        "plt.ylabel('Oldpeak')\n",
        "\n",
        "plt.tight_layout()\n",
        "plt.show()\n"
      ]
    },
    {
      "cell_type": "markdown",
      "id": "f14e5c1c-ad03-4c82-853a-9630d34dffdf",
      "metadata": {
        "id": "f14e5c1c-ad03-4c82-853a-9630d34dffdf"
      },
      "source": [
        "la distribución de los datos imputados con MICE coincide con la distribución de los datos observados."
      ]
    },
    {
      "cell_type": "code",
      "execution_count": null,
      "id": "32846c96-737d-4e50-a5d4-6e598d4e0dd7",
      "metadata": {
        "id": "32846c96-737d-4e50-a5d4-6e598d4e0dd7",
        "outputId": "641aab92-e62e-4728-9f72-f2039e4a6e08"
      },
      "outputs": [
        {
          "name": "stdout",
          "output_type": "stream",
          "text": [
            "Statistics for df_nan:\n",
            "        Cholesterol     Oldpeak   RestingBP\n",
            "count   918.000000  918.000000  918.000000\n",
            "mean    244.503612    1.380537  132.541790\n",
            "std      53.378244    0.821252   17.989952\n",
            "min      85.000000   -2.600000   80.000000\n",
            "25%     214.000000    0.943290  120.000000\n",
            "50%     241.010609    1.200000  130.000000\n",
            "75%     267.000000    1.774034  140.000000\n",
            "max     603.000000    6.200000  200.000000\n",
            "\n",
            "Statistics for df_imputed:\n",
            "        Cholesterol     Oldpeak   RestingBP\n",
            "count   918.000000  918.000000  918.000000\n",
            "mean    246.465142    1.372985  132.559913\n",
            "std      62.729503    0.961681   17.999158\n",
            "min      85.000000   -2.600000   80.000000\n",
            "25%     207.000000    0.800000  120.000000\n",
            "50%     238.000000    1.200000  130.000000\n",
            "75%     277.000000    2.000000  140.000000\n",
            "max     603.000000    6.200000  200.000000\n",
            "\n",
            "Statistics for df_imputed2:\n",
            "        Cholesterol     Oldpeak   RestingBP\n",
            "count   918.000000  918.000000  918.000000\n",
            "mean    245.061002    1.394227  132.538126\n",
            "std      60.712370    0.961131   17.990127\n",
            "min      85.000000   -2.600000   80.000000\n",
            "25%     207.000000    0.800000  120.000000\n",
            "50%     237.000000    1.300000  130.000000\n",
            "75%     275.000000    2.000000  140.000000\n",
            "max     603.000000    6.200000  200.000000\n"
          ]
        }
      ],
      "source": [
        "# prompt: calcular los estadísticos de las Cholesterol Oldpeak y  RestingBP para cada dataframe: df_nan, df_imputed, df_imputed2\n",
        "\n",
        "# Calculate statistics for Cholesterol, Oldpeak, and RestingBP for each DataFrame\n",
        "\n",
        "# Statistics for df_nan\n",
        "df_nan_stats = df_nan[['Cholesterol', 'Oldpeak', 'RestingBP']].describe()\n",
        "print(\"Statistics for df_nan:\\n\", df_nan_stats)\n",
        "\n",
        "# Statistics for df_imputed\n",
        "df_imputed_stats = df_imputed[['Cholesterol', 'Oldpeak', 'RestingBP']].describe()\n",
        "print(\"\\nStatistics for df_imputed:\\n\", df_imputed_stats)\n",
        "\n",
        "# Statistics for df_imputed2\n",
        "df_imputed2_stats = df_imputed2[['Cholesterol', 'Oldpeak', 'RestingBP']].describe()\n",
        "print(\"\\nStatistics for df_imputed2:\\n\", df_imputed2_stats)\n"
      ]
    },
    {
      "cell_type": "markdown",
      "id": "8127f6e2-1f2f-432a-9530-f91cc470ed64",
      "metadata": {
        "id": "8127f6e2-1f2f-432a-9530-f91cc470ed64"
      },
      "source": [
        "La media de Cholesterol y oldpeak de df_imputed2 (10 iteraciones) coincida más con la media de df_nan, que la de df_imputed (2 iteraciones)\n",
        "\n",
        "La media de RestingBP son casi iguales para los tres datasets, porque RestingBP sólo tiene 1 dato nulo\n",
        "\n",
        "\n",
        "<font color=\"red\">En un futuro análisis más profundo, y para poder comparar el método de imputación con MICE, se podría \"ocultar\" aleatoriamente un 10% de los valores en una columna numérica. Luego, aplicamos MICE para imputar esos valores y calculamos el RMSE entre los valores imputados y los reales. Esa métrica (RMSE) serviría como un \"score\" del modelo de imputación con MAICE, que podemos comparar con el Score calculado para los tros métodos</font>"
      ]
    },
    {
      "cell_type": "markdown",
      "id": "8b91e559-40d9-4b7e-968f-31a9c0e073f5",
      "metadata": {
        "id": "8b91e559-40d9-4b7e-968f-31a9c0e073f5"
      },
      "source": [
        "# **Selección de las variables ExerciseAngina_Y y MaxHR y justificación**\n",
        "\n",
        "Para este análisis seleccinaremos las dos variables distintas de mayor correlación"
      ]
    },
    {
      "cell_type": "markdown",
      "id": "856c02e7-9eb4-42c6-a97d-f3a9b9d05b4e",
      "metadata": {
        "id": "856c02e7-9eb4-42c6-a97d-f3a9b9d05b4e"
      },
      "source": [
        "<font color=\"red\">Al incluir las variables categóricas para el cálculo de las corelaciones, encontramos que ST_Slop es la de mayor correlación. Teniendo en cuenta que para abordadrla es necesario abordar tanto ST_Slop_Flat, como ST_Slop_Up, y lo mismo sucede con ChestPainType, en este análisis bivariado, se se selecciona las variables: ExerciseAngina_Y y MaxHR, y se considerann estas variables para un futuro análisis más profundo </font>"
      ]
    },
    {
      "cell_type": "markdown",
      "id": "960d791d-8b4f-4052-943f-5205533a44e8",
      "metadata": {
        "id": "960d791d-8b4f-4052-943f-5205533a44e8"
      },
      "source": [
        "## Importancia de las variables\n",
        "\n",
        "**ExerciseAngina: Angina inducida por el ejercicio** [Y: Sí, N: No]. Se transformó a **ExerciseAngina_Y** [1:sí, 0:no]\n",
        "\n",
        "Indica presencia (1) de angina (dolor en el pecho) durante una prueba de esfuerzo o actividad física (0 si no lo presenta). Experimentar angina puede ser un signo de enfermedad coronaria o un mayor riesgo de ataque cardíaco.\n",
        "\n",
        "Referencia de su importancia:\n",
        "\n",
        "NattionalHeart, Lung, and Blood Institute. Última actualización el27 de diciembre de 2024.Coronary Heart Disease -Symptoms. https://www.nhlbi.nih.gov/health/coronary-heart-disease/symptoms\n",
        "\n",
        "\n",
        "\"La enfermedad coronaria suele desarrollarse a lo largo de muchos años. La placa se acumula y estrecha la arteria coronaria. Es más probable que tenga síntomas como dolor en el pecho, dificultad para respirar o dolor de cuello cuando se esfuerza. Los síntomas suelen desaparecer con el descanso y vuelven cuando está activo o bajo estrés. Los síntomas pueden empeorar a medida que la placa se sigue acumulando.\"\n",
        "\n",
        "\n",
        " **MaxHR (frecuencia cardíaca máxima alcanzada (Maximum Heart Rate)):**\n",
        "\n",
        " Variable elegida para el análisis univariado. Recordemos que:\n",
        "\n",
        " La Frecuencia cardíaca (FC) muy baja durante el ejercicio puede indicar problemas de conducción eléctrica o insuficiencia cardíaca.\n",
        "\n",
        "Frecuencia cardíaca (FC) excesivamente alta puede estar asociada con arritmias o estrés excesivo en el corazón.\n",
        "\n",
        "Referncias de estudios:\n",
        " Vázquez et al., 2023, FRECUENCIA CARDIACA: Una revisión sistemática, *Enfermeria en Cardiologia*, 30(90), DOI: https://doi.org/10.59322/90.7186.LR5\n",
        "\n",
        " Biasco et al.,2023, Valor pronóstico de las frecuencias cardiacas bajas en pacientes ingresados con infarto agudo de miocardio, *Revista Española de Cardiología*, 76(8), https://doi.org/10.1016/j.recesp.2023.01.008:\n"
      ]
    },
    {
      "cell_type": "code",
      "execution_count": null,
      "id": "ac62c581-d97f-4322-8d67-f44f14031ec3",
      "metadata": {
        "id": "ac62c581-d97f-4322-8d67-f44f14031ec3",
        "outputId": "f1041d53-f56e-4b7f-e369-eca95f59d491"
      },
      "outputs": [
        {
          "data": {
            "text/plain": [
              "HeartDisease         1.00\n",
              "ST_Slope_Flat        0.55\n",
              "ExerciseAngina_Y     0.49\n",
              "Oldpeak              0.37\n",
              "Sex_M                0.31\n",
              "Age                  0.28\n",
              "FastingBS            0.27\n",
              "RestingBP            0.12\n",
              "RestingECG_ST        0.10\n",
              "Cholesterol          0.04\n",
              "ChestPainType_TA    -0.05\n",
              "RestingECG_Normal   -0.09\n",
              "ChestPainType_NAP   -0.21\n",
              "MaxHR               -0.40\n",
              "ChestPainType_ATA   -0.40\n",
              "ST_Slope_Up         -0.62\n",
              "Name: HeartDisease, dtype: float64"
            ]
          },
          "execution_count": 64,
          "metadata": {},
          "output_type": "execute_result"
        }
      ],
      "source": [
        "correlation_matrix_pearson = df_encoded_media.corr()['HeartDisease'].sort_values(ascending=False)\n",
        "correlation_matrix_pearson.round(2)\n"
      ]
    },
    {
      "cell_type": "markdown",
      "id": "cb5e8bc8-d784-4ea3-9506-af2bccbbff97",
      "metadata": {
        "id": "cb5e8bc8-d784-4ea3-9506-af2bccbbff97"
      },
      "source": [
        "Con pearson las dos variables de mayor correlación que no son categóricas: MaxHR (-0.4) y ExerciseAngina_Y (0.49)"
      ]
    },
    {
      "cell_type": "code",
      "execution_count": null,
      "id": "92bb516b-64c7-4d3c-9e24-ea8e60cc9482",
      "metadata": {
        "id": "92bb516b-64c7-4d3c-9e24-ea8e60cc9482",
        "outputId": "1ad91f3a-536c-4d4a-daea-ce1c068e557b"
      },
      "outputs": [
        {
          "data": {
            "text/plain": [
              "HeartDisease         1.00\n",
              "ST_Slope_Flat        0.55\n",
              "ExerciseAngina_Y     0.49\n",
              "Oldpeak              0.37\n",
              "Sex_M                0.31\n",
              "FastingBS            0.27\n",
              "Age                  0.24\n",
              "RestingECG_ST        0.10\n",
              "RestingBP            0.10\n",
              "Cholesterol          0.04\n",
              "ChestPainType_TA    -0.05\n",
              "RestingECG_Normal   -0.09\n",
              "ChestPainType_NAP   -0.21\n",
              "MaxHR               -0.33\n",
              "ChestPainType_ATA   -0.40\n",
              "ST_Slope_Up         -0.62\n",
              "Name: HeartDisease, dtype: float64"
            ]
          },
          "execution_count": 66,
          "metadata": {},
          "output_type": "execute_result"
        }
      ],
      "source": [
        "correlation_matrix_kendall = df_encoded_media.corr('kendall')['HeartDisease'].sort_values(ascending=False)\n",
        "correlation_matrix_kendall.round(2)"
      ]
    },
    {
      "cell_type": "markdown",
      "id": "1b382cb7-9494-4ba9-b5f7-c70469d96f3f",
      "metadata": {
        "id": "1b382cb7-9494-4ba9-b5f7-c70469d96f3f"
      },
      "source": [
        "Con kendall las dos variables de mayor correlación que no son categóricas: MaxHR (-0.33) y ExerciseAngina_Y (0.49)"
      ]
    },
    {
      "cell_type": "code",
      "execution_count": null,
      "id": "54a6f4a8-36d6-444a-9cdf-c21c92e28ffb",
      "metadata": {
        "id": "54a6f4a8-36d6-444a-9cdf-c21c92e28ffb",
        "outputId": "6510a371-6da4-4993-92ae-0d894e3f2c7d"
      },
      "outputs": [
        {
          "data": {
            "text/plain": [
              "HeartDisease         1.00\n",
              "ST_Slope_Flat        0.55\n",
              "ExerciseAngina_Y     0.49\n",
              "Oldpeak              0.42\n",
              "Sex_M                0.31\n",
              "Age                  0.29\n",
              "FastingBS            0.27\n",
              "RestingBP            0.12\n",
              "RestingECG_ST        0.10\n",
              "Cholesterol          0.05\n",
              "ChestPainType_TA    -0.05\n",
              "RestingECG_Normal   -0.09\n",
              "ChestPainType_NAP   -0.21\n",
              "ChestPainType_ATA   -0.40\n",
              "MaxHR               -0.40\n",
              "ST_Slope_Up         -0.62\n",
              "Name: HeartDisease, dtype: float64"
            ]
          },
          "execution_count": 67,
          "metadata": {},
          "output_type": "execute_result"
        }
      ],
      "source": [
        "correlation_matrix_spearman = df_encoded_media.corr('spearman')['HeartDisease'].sort_values(ascending=False)\n",
        "correlation_matrix_spearman.round(2)"
      ]
    },
    {
      "cell_type": "markdown",
      "id": "942901f8-a0f8-4a3a-babf-2812ba4f8435",
      "metadata": {
        "id": "942901f8-a0f8-4a3a-babf-2812ba4f8435"
      },
      "source": [
        "Con spearman las dos variables de mayor correlación que no son categóricas: MaxHR (-0.4) y ExerciseAngina_Y (0.49)"
      ]
    },
    {
      "cell_type": "markdown",
      "id": "80a66db8-cc3f-454e-b2f0-1e280745f0a9",
      "metadata": {
        "id": "80a66db8-cc3f-454e-b2f0-1e280745f0a9"
      },
      "source": [
        "## Relación entre las variables ExerciseAngina_Y y MaxHR\n",
        "\n"
      ]
    },
    {
      "cell_type": "markdown",
      "id": "79719acf-3377-483a-ac60-046dc48591a6",
      "metadata": {
        "id": "79719acf-3377-483a-ac60-046dc48591a6"
      },
      "source": [
        "### Estadísticos"
      ]
    },
    {
      "cell_type": "code",
      "execution_count": null,
      "id": "147af3d9-bd62-4e61-8575-6141c6645bd5",
      "metadata": {
        "id": "147af3d9-bd62-4e61-8575-6141c6645bd5",
        "outputId": "af106afe-cd49-4149-abf6-bfa0017bb453"
      },
      "outputs": [
        {
          "data": {
            "text/plain": [
              "count       918\n",
              "unique        2\n",
              "top       False\n",
              "freq        547\n",
              "Name: ExerciseAngina_Y, dtype: object"
            ]
          },
          "execution_count": 68,
          "metadata": {},
          "output_type": "execute_result"
        }
      ],
      "source": [
        "estad_ExerciseAngina_Y = df_encoded_media['ExerciseAngina_Y'].describe()\n",
        "estad_ExerciseAngina_Y\n",
        "\n"
      ]
    },
    {
      "cell_type": "code",
      "execution_count": null,
      "id": "06c8bac8-b1dc-447d-b1a7-312f984d3487",
      "metadata": {
        "id": "06c8bac8-b1dc-447d-b1a7-312f984d3487",
        "outputId": "b7034c68-3641-448c-84b0-4d84773dc61b"
      },
      "outputs": [
        {
          "data": {
            "text/plain": [
              "count    918.000000\n",
              "mean     136.809368\n",
              "std       25.460334\n",
              "min       60.000000\n",
              "25%      120.000000\n",
              "50%      138.000000\n",
              "75%      156.000000\n",
              "max      202.000000\n",
              "Name: MaxHR, dtype: float64"
            ]
          },
          "execution_count": 69,
          "metadata": {},
          "output_type": "execute_result"
        }
      ],
      "source": [
        "estad_MaxHR = df_encoded_media['MaxHR'].describe()\n",
        "estad_MaxHR"
      ]
    },
    {
      "cell_type": "markdown",
      "id": "754f620a-e0d8-47da-8178-c0282ac3cb5d",
      "metadata": {
        "id": "754f620a-e0d8-47da-8178-c0282ac3cb5d"
      },
      "source": [
        "La media de MAXHR es 136.81 y la moda de ExerciseAngina_Y es False (se repite 547 veces)"
      ]
    },
    {
      "cell_type": "markdown",
      "id": "30345759-2ca2-4446-adb3-e3c19af12bb1",
      "metadata": {
        "id": "30345759-2ca2-4446-adb3-e3c19af12bb1"
      },
      "source": [
        "### Correlación"
      ]
    },
    {
      "cell_type": "code",
      "execution_count": null,
      "id": "4cdc3684-5aa5-4372-85da-86f8d7f5f7c3",
      "metadata": {
        "id": "4cdc3684-5aa5-4372-85da-86f8d7f5f7c3",
        "outputId": "fc78ca8e-d565-483a-ab5b-055d25c96c8b"
      },
      "outputs": [
        {
          "name": "stdout",
          "output_type": "stream",
          "text": [
            "La correlación entre ExerciseAngina_Y y MaxHR es: -0.3704248672264948\n"
          ]
        }
      ],
      "source": [
        "# Correlación entre ExerciseAngina_Y y MaxHR\n",
        "\n",
        "corr_M_E = df_encoded_media['ExerciseAngina_Y'].corr(df_encoded_media['MaxHR'])\n",
        "print(f\"La correlación entre ExerciseAngina_Y y MaxHR es: {corr_M_E}\")\n"
      ]
    },
    {
      "cell_type": "markdown",
      "id": "4507a75b-d637-411e-8610-0a18797705a2",
      "metadata": {
        "id": "4507a75b-d637-411e-8610-0a18797705a2"
      },
      "source": [
        "### Tabla de contingencia"
      ]
    },
    {
      "cell_type": "code",
      "execution_count": null,
      "id": "54893b28-7b44-4d4f-9213-292f9be6810e",
      "metadata": {
        "id": "54893b28-7b44-4d4f-9213-292f9be6810e",
        "outputId": "a5fdb067-ff1d-4892-c26d-53b086121e4f"
      },
      "outputs": [
        {
          "data": {
            "text/html": [
              "<div>\n",
              "<style scoped>\n",
              "    .dataframe tbody tr th:only-of-type {\n",
              "        vertical-align: middle;\n",
              "    }\n",
              "\n",
              "    .dataframe tbody tr th {\n",
              "        vertical-align: top;\n",
              "    }\n",
              "\n",
              "    .dataframe thead th {\n",
              "        text-align: right;\n",
              "    }\n",
              "</style>\n",
              "<table border=\"1\" class=\"dataframe\">\n",
              "  <thead>\n",
              "    <tr style=\"text-align: right;\">\n",
              "      <th>MaxHR</th>\n",
              "      <th>70-100</th>\n",
              "      <th>101-130</th>\n",
              "      <th>131-160</th>\n",
              "      <th>161-200</th>\n",
              "    </tr>\n",
              "    <tr>\n",
              "      <th>ExerciseAngina_Y</th>\n",
              "      <th></th>\n",
              "      <th></th>\n",
              "      <th></th>\n",
              "      <th></th>\n",
              "    </tr>\n",
              "  </thead>\n",
              "  <tbody>\n",
              "    <tr>\n",
              "      <th>False</th>\n",
              "      <td>36</td>\n",
              "      <td>115</td>\n",
              "      <td>231</td>\n",
              "      <td>160</td>\n",
              "    </tr>\n",
              "    <tr>\n",
              "      <th>True</th>\n",
              "      <td>44</td>\n",
              "      <td>194</td>\n",
              "      <td>117</td>\n",
              "      <td>15</td>\n",
              "    </tr>\n",
              "  </tbody>\n",
              "</table>\n",
              "</div>"
            ],
            "text/plain": [
              "MaxHR             70-100  101-130  131-160  161-200\n",
              "ExerciseAngina_Y                                   \n",
              "False                 36      115      231      160\n",
              "True                  44      194      117       15"
            ]
          },
          "execution_count": 73,
          "metadata": {},
          "output_type": "execute_result"
        }
      ],
      "source": [
        "# prompt: definr rangos para MaxHR y crear tabla de contigencia con las variables ExerciseAngina_Y y MaxHR de df_encoded_media,\n",
        "\n",
        "import pandas as pd\n",
        "# Define ranges for MaxHR\n",
        "max_hr_ranges = pd.cut(df_encoded_media['MaxHR'], bins=[70, 100, 130, 160, 200], labels=['70-100', '101-130', '131-160', '161-200'])\n",
        "\n",
        "# Create the contingency table\n",
        "contingency_table = pd.crosstab(df_encoded_media['ExerciseAngina_Y'], max_hr_ranges)\n",
        "\n",
        "# Display the table\n",
        "contingency_table\n"
      ]
    },
    {
      "cell_type": "markdown",
      "id": "6a596c11-5f5c-413f-8ae0-1cb37b3269a0",
      "metadata": {
        "id": "6a596c11-5f5c-413f-8ae0-1cb37b3269a0"
      },
      "source": [
        "**Según la tabla de contigencia:**\n",
        "\n",
        "La mayor proporción de personas que no presentaron angina (231 personas), se encuentra en un rango de frecuencias cardiacas entre 131 y 160\n",
        "\n",
        "La mayor proporción de personas que sí presentaron angina (194 personas), se encuentra en un rango de frecuencias cardiacas entre 101 y 130\n",
        "\n",
        "Para frecuencias observadas entre 70 y 130, son más las personas que sí presentaron angina, que las que no la presentaron\n",
        "\n",
        "Para frecuencias observadas entre 131 y 200, son más las personas que no presentaron angina, que las que sí la presentaron\n",
        "\n",
        "Esto explica la correlación negativa: aumenta MaxHR y disminuye la proporción de personas que presentan angina\n",
        "\n",
        "Tiene sentido que las personas que presentan angina no puedan alcanzar frecuencias cardiacas más altas, no resisten el esfuerzo"
      ]
    },
    {
      "cell_type": "markdown",
      "id": "4c6529f0-dc7a-465d-93ce-2dac7b19e0a1",
      "metadata": {
        "id": "4c6529f0-dc7a-465d-93ce-2dac7b19e0a1"
      },
      "source": [
        "Según la correlación la relación es negativa y moderada"
      ]
    },
    {
      "cell_type": "code",
      "execution_count": null,
      "id": "6bi2RLAXrqSg",
      "metadata": {
        "id": "6bi2RLAXrqSg"
      },
      "outputs": [],
      "source": [
        "#sigo_probando\n",
        "#Vuelvo a probar"
      ]
    }
  ],
  "metadata": {
    "colab": {
      "provenance": [],
      "include_colab_link": true
    },
    "kernelspec": {
      "display_name": "Python 3 (ipykernel)",
      "language": "python",
      "name": "python3"
    },
    "language_info": {
      "codemirror_mode": {
        "name": "ipython",
        "version": 3
      },
      "file_extension": ".py",
      "mimetype": "text/x-python",
      "name": "python",
      "nbconvert_exporter": "python",
      "pygments_lexer": "ipython3",
      "version": "3.12.7"
    }
  },
  "nbformat": 4,
  "nbformat_minor": 5
}