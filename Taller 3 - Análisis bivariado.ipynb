{
 "cells": [
  {
   "cell_type": "markdown",
   "id": "6e7d5a4c-21da-4460-9bf3-9cdd6e59911e",
   "metadata": {},
   "source": [
    "# Integrantes\n",
    "## Taller 3 - Actividad Grupal . Comparte tu Análisis bivariado\n",
    "\n",
    "DIEGO ALVAREZ CARO\n",
    "\n",
    "CRISTIAN MUÑOZ ASTUDILLO\n",
    "\n",
    "JULIAN MELENDEZ CRUZ\n",
    "\n",
    "LORENA TONGUINO"
   ]
  }
 ],
 "metadata": {
  "kernelspec": {
   "display_name": "Python 3 (ipykernel)",
   "language": "python",
   "name": "python3"
  },
  "language_info": {
   "codemirror_mode": {
    "name": "ipython",
    "version": 3
   },
   "file_extension": ".py",
   "mimetype": "text/x-python",
   "name": "python",
   "nbconvert_exporter": "python",
   "pygments_lexer": "ipython3",
   "version": "3.12.7"
  }
 },
 "nbformat": 4,
 "nbformat_minor": 5
}
